{
 "cells": [
  {
   "cell_type": "code",
   "execution_count": 1,
   "metadata": {},
   "outputs": [],
   "source": [
    "import json\n",
    "import pprint\n",
    "import collections\n",
    "import requests\n",
    "import pandas as pd\n",
    "import numpy as np\n",
    "from pynpm import NPMPackage"
   ]
  },
  {
   "cell_type": "code",
   "execution_count": 2,
   "metadata": {},
   "outputs": [],
   "source": [
    "pp = pprint.PrettyPrinter(indent=2)"
   ]
  },
  {
   "cell_type": "code",
   "execution_count": 3,
   "metadata": {},
   "outputs": [],
   "source": [
    "project_data = {}\n",
    "project = 'parsing-test-simple'\n",
    "with open('data/{}/project.json'.format(project), 'r') as f:\n",
    "    project_data = json.load(f)"
   ]
  },
  {
   "cell_type": "code",
   "execution_count": 4,
   "metadata": {},
   "outputs": [],
   "source": [
    "targets = project_data['targets']\n",
    "sprites = targets[1:]"
   ]
  },
  {
   "cell_type": "code",
   "execution_count": 5,
   "metadata": {},
   "outputs": [],
   "source": [
    "blks =  sprites[0]['blocks']\n",
    "tops = {k:blks[k] for k in blks if  blks[k]['topLevel']}"
   ]
  },
  {
   "cell_type": "code",
   "execution_count": 13,
   "metadata": {},
   "outputs": [
    {
     "name": "stdout",
     "output_type": "stream",
     "text": [
      "['motion_movesteps', '_', 'motion_goto', '_', 'looks_thinkforsecs', '_', 'looks_say', '_', 'sound_playuntildone', '_', 'event_broadcast']\n",
      "\n",
      "\n",
      "['event_whenflagclicked', '_', 'control_repeat', '_', 'sound_stopallsounds', '_', 'data_setvariableto']\n",
      "\n",
      "\n",
      "['event_whenflagclicked', '_', 'control_repeat', '>', 'motion_goto', '_', 'control_if', '>', 'control_if', '>', 'motion_turnleft']\n",
      "\n",
      "\n",
      "['event_whenflagclicked', '_', 'control_repeat', '>', 'motion_goto', '_', 'control_if', '_', 'control_if_else', '>', 'motion_movesteps']\n",
      "\n",
      "\n",
      "['event_whenflagclicked', '_', 'control_repeat', '>', 'motion_goto', '_', 'control_if', '_', 'control_if_else', '_', 'looks_sayforsecs', '_', 'looks_say']\n",
      "\n",
      "\n",
      "['event_whenflagclicked', '_', 'control_repeat', '>', 'motion_goto', '_', 'control_if', '_', 'control_if_else', '>', 'motion_movesteps', '_', 'motion_goto']\n",
      "\n",
      "\n"
     ]
    }
   ],
   "source": [
    "for p in get_paths(blks):\n",
    "    print(p)\n",
    "    print(\"\\n\")"
   ]
  },
  {
   "cell_type": "code",
   "execution_count": 7,
   "metadata": {},
   "outputs": [],
   "source": [
    "# This only works for command blocks (nothing about inputs)"
   ]
  },
  {
   "cell_type": "code",
   "execution_count": 8,
   "metadata": {},
   "outputs": [],
   "source": [
    "def get_terminal_blocks(blocks):\n",
    "    return {k:blocks[k] for k in blocks\n",
    "             if blocks[k]['next'] is None # nothing after it\n",
    "             if not blocks[k]['shadow'] # not a shadow block\n",
    "             if 'operator' not in blocks[k]['opcode'] # not an operator\n",
    "             if 'SUBSTACK' not in blocks[k]['inputs'] # has no children\n",
    "             if 'SUBSTACK2' not in blocks[k]['inputs'] }"
   ]
  },
  {
   "cell_type": "code",
   "execution_count": 9,
   "metadata": {},
   "outputs": [],
   "source": [
    "def get_paths(blks):\n",
    "    \n",
    "    paths = []\n",
    "    \n",
    "    # symbols for direction in the tree\n",
    "    _nest = '>'\n",
    "    _next = '_'\n",
    "    \n",
    "    terminals = get_terminal_blocks(blks)\n",
    "\n",
    "    for t in terminals:\n",
    "\n",
    "        # initialize the path ending with the terminal\n",
    "\n",
    "        curr_parent_id = t\n",
    "        curr_parent = blks[curr_parent_id]\n",
    "        next_parent_id = terminals[t]['parent']\n",
    "        next_parent = blks[next_parent_id]\n",
    "\n",
    "        path = [curr_parent['opcode']]\n",
    "\n",
    "        if next_parent_id is not None:\n",
    "            if t == next_parent['next']:\n",
    "                path.insert(0,_next)\n",
    "            else:\n",
    "                path.insert(0,_nest)\n",
    "\n",
    "        # initializie before traverseing\n",
    "        path.insert(0,next_parent['opcode'])\n",
    "\n",
    "        # begin the traversal with the next parent\n",
    "        curr_parent_id = next_parent_id\n",
    "\n",
    "        # go up the tree\n",
    "        while True:\n",
    "            # set the current parent to its own parent\n",
    "\n",
    "            # in order to determine nesting / sequence,\n",
    "            # if the current block id is the same as its parent's next\n",
    "            # then it's next\n",
    "            #  if it's not, then it's nested\n",
    "            next_parent_id = blks[curr_parent_id]['parent']\n",
    "\n",
    "            if next_parent_id is not None:\n",
    "\n",
    "                curr_parent = blks[curr_parent_id]\n",
    "                next_parent = blks[next_parent_id]\n",
    "\n",
    "                if curr_parent_id == next_parent['next']:\n",
    "                    path.insert(0,_next)\n",
    "                else:\n",
    "                    path.insert(0,_nest)\n",
    "\n",
    "                path.insert(0,next_parent['opcode'])\n",
    "\n",
    "                # reset for the next iteration\n",
    "                curr_parent_id = next_parent_id\n",
    "            else:\n",
    "                break\n",
    "\n",
    "        paths.append(path)\n",
    "    \n",
    "    return paths"
   ]
  },
  {
   "cell_type": "code",
   "execution_count": 9,
   "metadata": {},
   "outputs": [],
   "source": [
    "def get_top_blocks(blocks):\n",
    "    return {bid: block for bid,block in blocks.items() if 'topLevel' in list(block) and block['topLevel']}"
   ]
  },
  {
   "cell_type": "code",
   "execution_count": 1545,
   "metadata": {},
   "outputs": [],
   "source": [
    "def traverse_blocks(blocks):\n",
    "    \n",
    "    \"\"\"\n",
    "    traverses the blocks dictionary by continually traversing the 'next' property of each block\n",
    "    returns a list of top to bottom paths\n",
    "    \"\"\"\n",
    "    \n",
    "    # 1. Grab the top blocks as reference points\n",
    "    tops = get_top_blocks(blocks)\n",
    "    topids = [bid for bid,block in tops.items()]\n",
    "    \n",
    "    # Store each stack\n",
    "    stacks = []\n",
    "        \n",
    "    # start at each top block and traverse down by seeing each next block\n",
    "    for tid in topids:\n",
    "        stack = build_stack_tree([], blocks, tid)\n",
    "        stacks.append(stack)\n",
    "    \n",
    "    return stacks"
   ]
  },
  {
   "cell_type": "code",
   "execution_count": 1546,
   "metadata": {},
   "outputs": [],
   "source": [
    "# can you do this raw without building the tree?"
   ]
  },
  {
   "cell_type": "code",
   "execution_count": 1515,
   "metadata": {},
   "outputs": [],
   "source": [
    "def build_stack_tree(curr_stack, all_blocks, block_id):\n",
    "    \"\"\"\n",
    "    Given a block:\n",
    "    1. Initialize with its data\n",
    "    1. Check if it has any children\n",
    "        2. If it has children,\n",
    "            recursively traverse each child block\n",
    "    2. If not, check if it has a next block\n",
    "    3. Repeat the process with the next block\n",
    "    \"\"\"\n",
    "    \n",
    "    #Grab the block\n",
    "    block = all_blocks[block_id]\n",
    "\n",
    "    # Initialize the object to store the current block \n",
    "    curr_block = {\n",
    "        'id': block_id,\n",
    "        'type': block['opcode'],\n",
    "        'category': block['opcode'].split('_')[0],\n",
    "        'next': block['next'],\n",
    "        'parent': block['parent'],\n",
    "        'children': [],\n",
    "        'isLeaf': False\n",
    "    }\n",
    "    \n",
    "    # First check for substacks (control flow)\n",
    "    for stackid in ['SUBSTACK', 'SUBSTACK2']:\n",
    "        if stackid in block['inputs']:\n",
    "            child_id = block['inputs'][stackid][1]\n",
    "            # pass in the child stack array into the new one\n",
    "            child_stack = build_stack_tree(curr_block['children'], all_blocks, child_id)\n",
    "            \n",
    "            # hacky fix for the list duplicate...\n",
    "            # TODO: make an actual solution??\n",
    "            # why does this append a copy of both children in one array?\n",
    "            if child_stack is not None and type(child_stack) is not list: \n",
    "                curr_block['children'].append(child_stack)\n",
    "\n",
    "    # If there's no next block, return the current stack\n",
    "    # Check if there's a next block\n",
    "    if block['next'] is None:\n",
    "        # A lone block is at the top level and has no next \n",
    "        if block['topLevel']:\n",
    "            return [curr_block]\n",
    "        \n",
    "        # At the end of a tree\n",
    "        if len(curr_block['children']) == 0:\n",
    "            curr_block['isLeaf'] = True\n",
    "        \n",
    "        # At a normal end of a branch\n",
    "        return curr_stack.insert(0,curr_block)\n",
    "\n",
    "    # Otherwise, go to the next block\n",
    "    build_stack_tree(curr_stack, all_blocks, block['next'])\n",
    "    \n",
    "    # prepend because it's recursively added from the bottom up\n",
    "    curr_stack.insert(0,curr_block)\n",
    "\n",
    "    return curr_stack"
   ]
  },
  {
   "cell_type": "code",
   "execution_count": 1516,
   "metadata": {},
   "outputs": [],
   "source": [
    "def build_stack_sequence(all_blocks, tid):\n",
    "    \"\"\"\n",
    "    currently only looks at the next block and doesn't consider nesting.\n",
    "    refactor to include nested paths/sequences by doing a depth-first traversal\n",
    "    \"\"\"\n",
    "    # This produces ONE depth first traversal from top -> bottom\n",
    "    stack = []\n",
    "    curr_id = tid\n",
    "    stack.append(all_blocks[curr_id]['opcode'])\n",
    "    while curr_id is not None:\n",
    "        curr_id = all_blocks[curr_id]['next']\n",
    "        if curr_id != None:\n",
    "            stack.append(all_blocks[curr_id]['opcode'])\n",
    "    return stack"
   ]
  },
  {
   "cell_type": "code",
   "execution_count": 1517,
   "metadata": {},
   "outputs": [],
   "source": [
    "def build_rnn_sequences(stack, seq_len):\n",
    "    \"\"\"\n",
    "    produces a list of rnn-ready sequences given an input stack sequence\n",
    "    each stack is simply ONE depth first traversal stack\n",
    "    this produces iterations through the stack\n",
    "    \"\"\"\n",
    "    seqs = []\n",
    "    for i in range(seq_len):\n",
    "        seq = stack[i:seq_len]\n",
    "        if(len(seq)<seq_len):\n",
    "            seq.extend(['none'] * (seq_len - len(seq)))\n",
    "        seqs.append(seq)\n",
    "    return seqs"
   ]
  },
  {
   "cell_type": "code",
   "execution_count": 1518,
   "metadata": {},
   "outputs": [],
   "source": [
    "# some utils\n",
    "def stack_is_flat(stack):\n",
    "    return all([len(block['children']) == 0 for block in stack])\n",
    "\n",
    "def stack_is_nested(stack):\n",
    "    return not stack_is_flat(stack)"
   ]
  },
  {
   "cell_type": "code",
   "execution_count": 1519,
   "metadata": {},
   "outputs": [],
   "source": [
    "def clean_block(block):\n",
    "    \"\"\"removes children from block \"\"\"\n",
    "    return clean_key(block, 'children')"
   ]
  },
  {
   "cell_type": "code",
   "execution_count": 1520,
   "metadata": {},
   "outputs": [],
   "source": [
    "def clean_key(d, key):\n",
    "    \"\"\" removes key from a dictionary\"\"\"\n",
    "    return {k:d[k] for k in d if k !=key}"
   ]
  },
  {
   "cell_type": "code",
   "execution_count": 1521,
   "metadata": {},
   "outputs": [],
   "source": [
    "og_blocks = sprites[0]['blocks']"
   ]
  },
  {
   "cell_type": "code",
   "execution_count": 1522,
   "metadata": {},
   "outputs": [],
   "source": [
    "# 1. Grab the top blocks as reference points\n",
    "tops = get_top_blocks(og_blocks)\n",
    "topids = [bid for bid,block in tops.items()]"
   ]
  },
  {
   "cell_type": "code",
   "execution_count": 1523,
   "metadata": {},
   "outputs": [],
   "source": [
    "stacks = traverse_blocks(og_blocks)"
   ]
  },
  {
   "cell_type": "markdown",
   "metadata": {},
   "source": [
    "## main idea\n",
    "1. do a depth first traversal on each tree for each stack\n",
    "2. save each path in the search\n",
    "3. learn to predict the last node in each path! pad it by the max length of each path."
   ]
  }
 ],
 "metadata": {
  "kernelspec": {
   "display_name": "Python 3",
   "language": "python",
   "name": "python3"
  },
  "language_info": {
   "codemirror_mode": {
    "name": "ipython",
    "version": 3
   },
   "file_extension": ".py",
   "mimetype": "text/x-python",
   "name": "python",
   "nbconvert_exporter": "python",
   "pygments_lexer": "ipython3",
   "version": "3.6.4"
  }
 },
 "nbformat": 4,
 "nbformat_minor": 2
}
