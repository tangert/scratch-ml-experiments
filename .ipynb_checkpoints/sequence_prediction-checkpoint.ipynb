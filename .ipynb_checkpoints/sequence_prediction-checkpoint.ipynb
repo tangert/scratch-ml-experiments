{
 "cells": [
  {
   "cell_type": "code",
   "execution_count": 5,
   "metadata": {},
   "outputs": [],
   "source": [
    "import json\n",
    "import pprint\n",
    "import collections\n",
    "import requests\n",
    "import pandas as pd\n",
    "import numpy as np\n",
    "import gensim\n",
    "\n",
    "from sklearn.decomposition import PCA\n",
    "from sklearn.manifold import TSNE\n",
    "from sklearn import preprocessing\n",
    "from matplotlib import pyplot as plt\n",
    "from sklearn.model_selection import train_test_split\n",
    "\n",
    "import logging\n",
    "logging.basicConfig(format='%(levelname)s : %(message)s', level=logging.INFO)\n",
    "logging.root.level = logging.INFO  # ipython sometimes messes up the logging setup; restore"
   ]
  },
  {
   "cell_type": "code",
   "execution_count": 6,
   "metadata": {},
   "outputs": [],
   "source": [
    "def csv_to_df(path):\n",
    "    return pd.read_csv(path, index_col=0).fillna('')"
   ]
  },
  {
   "cell_type": "code",
   "execution_count": 7,
   "metadata": {},
   "outputs": [],
   "source": [
    "def df_to_docs(df):\n",
    "    return df.values.tolist()"
   ]
  },
  {
   "cell_type": "code",
   "execution_count": 8,
   "metadata": {},
   "outputs": [],
   "source": [
    "def csv_to_docs(path):\n",
    "    return df_to_docs(csv_to_df(path))"
   ]
  },
  {
   "cell_type": "code",
   "execution_count": 9,
   "metadata": {},
   "outputs": [],
   "source": [
    "fp = 'data/sequence-data/1000-trial-terminals-full.csv'\n",
    "cp = 'data/sequence-data/1000-trial-terminals-categories.csv'"
   ]
  },
  {
   "cell_type": "code",
   "execution_count": 10,
   "metadata": {},
   "outputs": [],
   "source": [
    "full_df = csv_to_df(fp)\n",
    "category_df = csv_to_df(cp)"
   ]
  },
  {
   "cell_type": "code",
   "execution_count": 11,
   "metadata": {},
   "outputs": [],
   "source": [
    "full_docs = csv_to_docs(fp)\n",
    "category_docs = csv_to_docs(cp)"
   ]
  },
  {
   "cell_type": "code",
   "execution_count": 14,
   "metadata": {},
   "outputs": [],
   "source": [
    "block2idx = {}\n",
    "idx2block = {}\n",
    "vocab = get_vocab(full_df)\n",
    "for i,b in enumerate(vocab):\n",
    "    block2idx[b] = i\n",
    "    idx2block[i] = b"
   ]
  },
  {
   "cell_type": "code",
   "execution_count": 13,
   "metadata": {},
   "outputs": [],
   "source": [
    "def get_vocab(df):\n",
    "    vocab = []\n",
    "    for seq in list(df.values):\n",
    "        words = set(seq)\n",
    "        vocab.extend(words)\n",
    "    return list(set(vocab))\n",
    "\n",
    "def encode_seq(seq):\n",
    "    \"\"\"encodes all elements in sequence into integers\"\"\"\n",
    "    return np.array([encode_block[b] for b in seq])\n",
    "\n",
    "def decode_seq(seq):\n",
    "    \"\"\"decodes indices back into block names\"\"\"\n",
    "    return np.array([decode_index[i] for i in seq])\n",
    "\n",
    "def encode_df(df):\n",
    "    return df.applymap(encode_block)\n",
    "\n",
    "def decode_df(df):\n",
    "    return df.applymap(decode_index)\n",
    "\n",
    "### base functions\n",
    "def encode_block(b):\n",
    "    return block2idx[b]\n",
    "\n",
    "def decode_index(i):\n",
    "    return idx2block[i]"
   ]
  },
  {
   "cell_type": "code",
   "execution_count": 61,
   "metadata": {},
   "outputs": [],
   "source": [
    "def one_hot_encode(val, num_classes):\n",
    "    v = []\n",
    "    for i in range(num_classes):\n",
    "        if i == val:\n",
    "            v.append(1)\n",
    "        else:\n",
    "            v.append(0)\n",
    "    return v"
   ]
  },
  {
   "cell_type": "code",
   "execution_count": 62,
   "metadata": {},
   "outputs": [],
   "source": [
    "def split_input_output(df):\n",
    "    return (df[get_training_cols(df)], df[get_label_col(df)])"
   ]
  },
  {
   "cell_type": "code",
   "execution_count": 63,
   "metadata": {},
   "outputs": [],
   "source": [
    "def get_label_col(df):\n",
    "    return [df.columns[len(df.columns)-1]]\n",
    "\n",
    "def get_training_cols(df):\n",
    "    return [col for col in df.columns[:len(df.columns)-1]]"
   ]
  },
  {
   "cell_type": "markdown",
   "metadata": {},
   "source": [
    "# Sequence prediction"
   ]
  },
  {
   "cell_type": "code",
   "execution_count": 155,
   "metadata": {},
   "outputs": [],
   "source": [
    "from numpy import array\n",
    "from numpy import cumsum\n",
    "import tensorflow as tf\n",
    "\n",
    "from keras import backend as K\n",
    "from keras.engine.topology import Layer\n",
    "from keras.utils import to_categorical, np_utils\n",
    "from keras.callbacks import ModelCheckpoint\n",
    "from keras import Sequential\n",
    "from keras.layers import Embedding, RNN, LSTM, Dense, Bidirectional, Dropout\n",
    "from keras.preprocessing.sequence import TimeseriesGenerator, skipgrams"
   ]
  },
  {
   "cell_type": "markdown",
   "metadata": {},
   "source": [
    "## LSTM"
   ]
  },
  {
   "cell_type": "code",
   "execution_count": 159,
   "metadata": {},
   "outputs": [],
   "source": [
    "# encode the df into integers\n",
    "encoded_df = encode_df(full_df)\n",
    "training_data = split_input_output(encoded_df)\n",
    "vocab = get_vocab(full_df)"
   ]
  },
  {
   "cell_type": "code",
   "execution_count": 160,
   "metadata": {},
   "outputs": [],
   "source": [
    "# look up for one hot encodings for each index encoding for blocks\n",
    "idx2onehot = { i:one_hot_encode(i, len(vocab)) for i in idx2block }"
   ]
  },
  {
   "cell_type": "code",
   "execution_count": 161,
   "metadata": {},
   "outputs": [],
   "source": [
    "inputs = list(training_data[0].values)\n",
    "outputs = list(training_data[1].values)"
   ]
  },
  {
   "cell_type": "code",
   "execution_count": 162,
   "metadata": {},
   "outputs": [],
   "source": [
    "# Split the data\n",
    "x_train, x_valid, y_train, y_valid = train_test_split(inputs, outputs, test_size=0.25, shuffle= True)"
   ]
  },
  {
   "cell_type": "code",
   "execution_count": 163,
   "metadata": {},
   "outputs": [],
   "source": [
    "y_train = np.array([idx2onehot[y[0]] for y in y_train])\n",
    "y_valid = np.array([idx2onehot[y[0]] for y in y_valid])"
   ]
  },
  {
   "cell_type": "code",
   "execution_count": 181,
   "metadata": {},
   "outputs": [],
   "source": [
    "x_train = np.array(x_train)\n",
    "x_valid = np.array(x_valid)"
   ]
  },
  {
   "cell_type": "code",
   "execution_count": 166,
   "metadata": {},
   "outputs": [],
   "source": [
    "input_len = max([len(i) for i in x_train])\n",
    "output_len = max([len(i) for i in y_train])    "
   ]
  },
  {
   "cell_type": "code",
   "execution_count": 205,
   "metadata": {},
   "outputs": [],
   "source": [
    "xt_reshaped = np.reshape(x_train, (len(x_train), input_len, 1))\n",
    "# normalize\n",
    "xt_reshaped = xt_reshaped / float(len(vocab))\n",
    "\n",
    "xv_reshaped = np.reshape(x_valid, (len(x_valid), input_len, 1))\n",
    "# normalize\n",
    "xv_reshaped = xv_reshaped / float(len(vocab))"
   ]
  },
  {
   "cell_type": "code",
   "execution_count": 164,
   "metadata": {},
   "outputs": [
    {
     "name": "stdout",
     "output_type": "stream",
     "text": [
      "control_stop\n",
      "data_setvariableto\n",
      "data_replaceitemoflist\n",
      "motion_glidesecstoxy\n",
      "looks_hide\n"
     ]
    }
   ],
   "source": [
    "for y in y_valid[:5]:\n",
    "    print(idx2block[np.argmax(y)])"
   ]
  },
  {
   "cell_type": "code",
   "execution_count": 165,
   "metadata": {},
   "outputs": [],
   "source": [
    "# Now that it's split, prep it to encode the vectors for probabilities"
   ]
  },
  {
   "cell_type": "code",
   "execution_count": 167,
   "metadata": {},
   "outputs": [
    {
     "data": {
      "text/plain": [
       "(32, 136)"
      ]
     },
     "execution_count": 167,
     "metadata": {},
     "output_type": "execute_result"
    }
   ],
   "source": [
    "input_len, output_len"
   ]
  },
  {
   "cell_type": "code",
   "execution_count": 192,
   "metadata": {},
   "outputs": [],
   "source": [
    "def build_model():\n",
    "    model = Sequential()\n",
    "    model.add(LSTM(128, input_shape=(xt_reshaped.shape[1], xt_reshaped.shape[2])))\n",
    "    model.add(Dropout(0.2))\n",
    "    model.add(Dense(len(vocab), activation='softmax'))\n",
    "    print(model.summary())\n",
    "    return model"
   ]
  },
  {
   "cell_type": "code",
   "execution_count": 193,
   "metadata": {},
   "outputs": [
    {
     "name": "stdout",
     "output_type": "stream",
     "text": [
      "_________________________________________________________________\n",
      "Layer (type)                 Output Shape              Param #   \n",
      "=================================================================\n",
      "lstm_8 (LSTM)                (None, 128)               66560     \n",
      "_________________________________________________________________\n",
      "dropout_7 (Dropout)          (None, 128)               0         \n",
      "_________________________________________________________________\n",
      "dense_7 (Dense)              (None, 136)               17544     \n",
      "=================================================================\n",
      "Total params: 84,104\n",
      "Trainable params: 84,104\n",
      "Non-trainable params: 0\n",
      "_________________________________________________________________\n",
      "None\n"
     ]
    }
   ],
   "source": [
    "model = build_model()"
   ]
  },
  {
   "cell_type": "code",
   "execution_count": 196,
   "metadata": {},
   "outputs": [],
   "source": [
    "model.compile(loss='categorical_crossentropy', optimizer='adam')\n",
    "# define the checkpoint\n",
    "filepath=\"training/weights-improvement-{epoch:02d}-{loss:.4f}.hdf5\"\n",
    "checkpoint = ModelCheckpoint(filepath, monitor='loss', verbose=1, save_best_only=True, mode='min')\n",
    "callbacks_list = [checkpoint]"
   ]
  },
  {
   "cell_type": "code",
   "execution_count": 197,
   "metadata": {},
   "outputs": [
    {
     "name": "stdout",
     "output_type": "stream",
     "text": [
      "Epoch 1/20\n",
      "80898/80898 [==============================] - 22s 272us/step - loss: 3.2082\n",
      "\n",
      "Epoch 00001: loss improved from inf to 3.20816, saving model to training/weights-improvement-01-3.2082.hdf5\n",
      "Epoch 2/20\n",
      "80898/80898 [==============================] - 20s 245us/step - loss: 3.0907\n",
      "\n",
      "Epoch 00002: loss improved from 3.20816 to 3.09069, saving model to training/weights-improvement-02-3.0907.hdf5\n",
      "Epoch 3/20\n",
      "80898/80898 [==============================] - 20s 246us/step - loss: 2.9833\n",
      "\n",
      "Epoch 00003: loss improved from 3.09069 to 2.98327, saving model to training/weights-improvement-03-2.9833.hdf5\n",
      "Epoch 4/20\n",
      "80898/80898 [==============================] - 20s 247us/step - loss: 2.8668\n",
      "\n",
      "Epoch 00004: loss improved from 2.98327 to 2.86683, saving model to training/weights-improvement-04-2.8668.hdf5\n",
      "Epoch 5/20\n",
      "80898/80898 [==============================] - 20s 242us/step - loss: 2.7657\n",
      "\n",
      "Epoch 00005: loss improved from 2.86683 to 2.76573, saving model to training/weights-improvement-05-2.7657.hdf5\n",
      "Epoch 6/20\n",
      "80898/80898 [==============================] - 21s 257us/step - loss: 2.6834\n",
      "\n",
      "Epoch 00006: loss improved from 2.76573 to 2.68343, saving model to training/weights-improvement-06-2.6834.hdf5\n",
      "Epoch 7/20\n",
      "80898/80898 [==============================] - 20s 243us/step - loss: 2.6208\n",
      "\n",
      "Epoch 00007: loss improved from 2.68343 to 2.62082, saving model to training/weights-improvement-07-2.6208.hdf5\n",
      "Epoch 8/20\n",
      "80898/80898 [==============================] - 20s 243us/step - loss: 2.5662\n",
      "\n",
      "Epoch 00008: loss improved from 2.62082 to 2.56619, saving model to training/weights-improvement-08-2.5662.hdf5\n",
      "Epoch 9/20\n",
      "80898/80898 [==============================] - 20s 243us/step - loss: 2.5127\n",
      "\n",
      "Epoch 00009: loss improved from 2.56619 to 2.51268, saving model to training/weights-improvement-09-2.5127.hdf5\n",
      "Epoch 10/20\n",
      "80898/80898 [==============================] - 20s 245us/step - loss: 2.4914\n",
      "\n",
      "Epoch 00010: loss improved from 2.51268 to 2.49136, saving model to training/weights-improvement-10-2.4914.hdf5\n",
      "Epoch 11/20\n",
      "80898/80898 [==============================] - 21s 255us/step - loss: 2.4784\n",
      "\n",
      "Epoch 00011: loss improved from 2.49136 to 2.47842, saving model to training/weights-improvement-11-2.4784.hdf5\n",
      "Epoch 12/20\n",
      "80898/80898 [==============================] - 20s 248us/step - loss: 2.3971\n",
      "\n",
      "Epoch 00012: loss improved from 2.47842 to 2.39709, saving model to training/weights-improvement-12-2.3971.hdf5\n",
      "Epoch 13/20\n",
      "80898/80898 [==============================] - 21s 256us/step - loss: 2.3549\n",
      "\n",
      "Epoch 00013: loss improved from 2.39709 to 2.35488, saving model to training/weights-improvement-13-2.3549.hdf5\n",
      "Epoch 14/20\n",
      "80898/80898 [==============================] - 21s 255us/step - loss: 2.3215\n",
      "\n",
      "Epoch 00014: loss improved from 2.35488 to 2.32148, saving model to training/weights-improvement-14-2.3215.hdf5\n",
      "Epoch 15/20\n",
      "80898/80898 [==============================] - 20s 242us/step - loss: 2.2908\n",
      "\n",
      "Epoch 00015: loss improved from 2.32148 to 2.29076, saving model to training/weights-improvement-15-2.2908.hdf5\n",
      "Epoch 16/20\n",
      "80898/80898 [==============================] - 19s 235us/step - loss: 2.2581\n",
      "\n",
      "Epoch 00016: loss improved from 2.29076 to 2.25808, saving model to training/weights-improvement-16-2.2581.hdf5\n",
      "Epoch 17/20\n",
      "80898/80898 [==============================] - 21s 262us/step - loss: 2.2310\n",
      "\n",
      "Epoch 00017: loss improved from 2.25808 to 2.23099, saving model to training/weights-improvement-17-2.2310.hdf5\n",
      "Epoch 18/20\n",
      "80898/80898 [==============================] - 22s 266us/step - loss: 2.2061\n",
      "\n",
      "Epoch 00018: loss improved from 2.23099 to 2.20607, saving model to training/weights-improvement-18-2.2061.hdf5\n",
      "Epoch 19/20\n",
      "80898/80898 [==============================] - 20s 252us/step - loss: 2.1771\n",
      "\n",
      "Epoch 00019: loss improved from 2.20607 to 2.17715, saving model to training/weights-improvement-19-2.1771.hdf5\n",
      "Epoch 20/20\n",
      "80898/80898 [==============================] - 20s 252us/step - loss: 2.1565\n",
      "\n",
      "Epoch 00020: loss improved from 2.17715 to 2.15653, saving model to training/weights-improvement-20-2.1565.hdf5\n"
     ]
    },
    {
     "data": {
      "text/plain": [
       "<keras.callbacks.History at 0x7fe4005facf8>"
      ]
     },
     "execution_count": 197,
     "metadata": {},
     "output_type": "execute_result"
    }
   ],
   "source": [
    "model.fit(xt_reshaped, y_train, epochs=20, batch_size=128, callbacks=callbacks_list)"
   ]
  },
  {
   "cell_type": "code",
   "execution_count": 204,
   "metadata": {},
   "outputs": [],
   "source": [
    "predictions = model.predict(xv_reshaped)"
   ]
  },
  {
   "cell_type": "code",
   "execution_count": 214,
   "metadata": {},
   "outputs": [
    {
     "name": "stdout",
     "output_type": "stream",
     "text": [
      "Accuracy: 0.4214781028664664\n"
     ]
    }
   ],
   "source": [
    "real = 0\n",
    "for i,p in enumerate(predictions):\n",
    "    inp = [idx2block[i] for i in x_valid[i]]\n",
    "    \n",
    "    y_real_idx = np.argmax(y_valid[i])\n",
    "    y_pred_idx = np.argmax(p)\n",
    "    \n",
    "    y_real = idx2block[y_real_idx]\n",
    "    \n",
    "#     print(\"\\nIn: {}\".format(inp))\n",
    "#     print(\"\\nPredicted: {}\".format(idx2block[y_pred_idx]))\n",
    "#     print(\"Real: {}\".format(y_real))\n",
    "    \n",
    "    if y_real_idx == y_pred_idx:\n",
    "        real += 1\n",
    "\n",
    "acc = real / len(predictions)\n",
    "print(\"Accuracy: {}\".format(acc))"
   ]
  },
  {
   "cell_type": "code",
   "execution_count": 99,
   "metadata": {},
   "outputs": [],
   "source": [
    "# Custom self attention layer.\n",
    "\n",
    "from keras import backend as K\n",
    "from keras.engine.topology import Layer\n",
    "from keras import initializers, regularizers, constraints\n",
    "\n",
    "class Attention(Layer):\n",
    "    def __init__(self, step_dim,\n",
    "                 W_regularizer=None, b_regularizer=None,\n",
    "                 W_constraint=None, b_constraint=None,\n",
    "                 bias=True, **kwargs):\n",
    "        self.supports_masking = True\n",
    "        self.init = initializers.get('glorot_uniform')\n",
    "\n",
    "        self.W_regularizer = regularizers.get(W_regularizer)\n",
    "        self.b_regularizer = regularizers.get(b_regularizer)\n",
    "\n",
    "        self.W_constraint = constraints.get(W_constraint)\n",
    "        self.b_constraint = constraints.get(b_constraint)\n",
    "\n",
    "        self.bias = bias\n",
    "        self.step_dim = step_dim\n",
    "        self.features_dim = 0\n",
    "        super(Attention, self).__init__(**kwargs)\n",
    "\n",
    "    def build(self, input_shape):\n",
    "        assert len(input_shape) == 3\n",
    "\n",
    "        self.W = self.add_weight((input_shape[-1],),\n",
    "                                 initializer=self.init,\n",
    "                                 name='{}_W'.format(self.name),\n",
    "                                 regularizer=self.W_regularizer,\n",
    "                                 constraint=self.W_constraint)\n",
    "        self.features_dim = input_shape[-1]\n",
    "\n",
    "        if self.bias:\n",
    "            self.b = self.add_weight((input_shape[1],),\n",
    "                                     initializer='zero',\n",
    "                                     name='{}_b'.format(self.name),\n",
    "                                     regularizer=self.b_regularizer,\n",
    "                                     constraint=self.b_constraint)\n",
    "        else:\n",
    "            self.b = None\n",
    "\n",
    "        self.built = True\n",
    "\n",
    "    def compute_mask(self, input, input_mask=None):\n",
    "        return None\n",
    "\n",
    "    def call(self, x, mask=None):\n",
    "        features_dim = self.features_dim\n",
    "        step_dim = self.step_dim\n",
    "\n",
    "        eij = K.reshape(K.dot(K.reshape(x, (-1, features_dim)),\n",
    "                        K.reshape(self.W, (features_dim, 1))), (-1, step_dim))\n",
    "\n",
    "        if self.bias:\n",
    "            eij += self.b\n",
    "\n",
    "        eij = K.tanh(eij)\n",
    "\n",
    "        a = K.exp(eij)\n",
    "\n",
    "        if mask is not None:\n",
    "            a *= K.cast(mask, K.floatx())\n",
    "\n",
    "        a /= K.cast(K.sum(a, axis=1, keepdims=True) + K.epsilon(), K.floatx())\n",
    "\n",
    "        a = K.expand_dims(a)\n",
    "        weighted_input = x * a\n",
    "        return K.sum(weighted_input, axis=1)\n",
    "\n",
    "    def compute_output_shape(self, input_shape):\n",
    "        return input_shape[0],  self.features_dim"
   ]
  },
  {
   "cell_type": "markdown",
   "metadata": {},
   "source": [
    "## Prep\n",
    "\n",
    "You have the data in \"raw\" sequence form, now you have to decide on a window/fixed vector (or eventually use an auto encoder or something)\n",
    "\n",
    "For now, create windowed sequences based on the median path length / 2 - 1\n",
    "predict the next token in the sequence\n",
    "\n",
    "\n",
    "some other ideas - what are some unsupervised things you can do on this data?\n",
    "what about tf-idf and then clustering? what kinds of \"archtetypal\" stacks will you see?\n",
    "What if you can suggest new blocks to try out based on the blocks in the stack right now? - created a weighted vector representing all of the blocks for a spritie"
   ]
  },
  {
   "cell_type": "markdown",
   "metadata": {},
   "source": [
    "# Word2Vec trial"
   ]
  },
  {
   "cell_type": "code",
   "execution_count": 67,
   "metadata": {},
   "outputs": [],
   "source": [
    "# Global hyper parameters\n",
    "hp = {\n",
    "    \"size\": 150, # size of the one-hot-encoded word vectors\n",
    "    \"window\": 3, # context size\n",
    "    \"min_count\": 2,\n",
    "    \"workers\": 4,\n",
    "    \"iter\": 50\n",
    "}"
   ]
  },
  {
   "cell_type": "code",
   "execution_count": 68,
   "metadata": {},
   "outputs": [
    {
     "name": "stderr",
     "output_type": "stream",
     "text": [
      "WARNING : consider setting layer size to a multiple of 4 for greater performance\n",
      "INFO : collecting all words and their counts\n",
      "INFO : PROGRESS: at sentence #0, processed 0 words, keeping 0 word types\n",
      "INFO : PROGRESS: at sentence #10000, processed 330000 words, keeping 110 word types\n",
      "INFO : PROGRESS: at sentence #20000, processed 660000 words, keeping 115 word types\n",
      "INFO : PROGRESS: at sentence #30000, processed 990000 words, keeping 118 word types\n",
      "INFO : PROGRESS: at sentence #40000, processed 1320000 words, keeping 120 word types\n",
      "INFO : PROGRESS: at sentence #50000, processed 1650000 words, keeping 125 word types\n",
      "INFO : PROGRESS: at sentence #60000, processed 1980000 words, keeping 126 word types\n",
      "INFO : PROGRESS: at sentence #70000, processed 2310000 words, keeping 126 word types\n",
      "INFO : PROGRESS: at sentence #80000, processed 2640000 words, keeping 134 word types\n",
      "INFO : PROGRESS: at sentence #90000, processed 2970000 words, keeping 135 word types\n",
      "INFO : PROGRESS: at sentence #100000, processed 3300000 words, keeping 136 word types\n",
      "INFO : collected 136 word types from a corpus of 3559545 raw words and 107865 sentences\n",
      "INFO : Loading a fresh vocabulary\n",
      "INFO : min_count=2 retains 129 unique words (94% of original 136, drops 7)\n",
      "INFO : min_count=2 leaves 3559538 word corpus (99% of original 3559545, drops 7)\n",
      "INFO : deleting the raw counts dictionary of 136 items\n",
      "INFO : sample=0.001 downsamples 19 most-common words\n",
      "INFO : downsampling leaves estimated 558290 word corpus (15.7% of prior 3559538)\n",
      "INFO : estimated required memory for 129 words and 150 dimensions: 219300 bytes\n",
      "INFO : resetting layer weights\n",
      "INFO : training model with 4 workers on 129 vocabulary and 150 features, using sg=0 hs=0 sample=0.001 negative=5 window=3\n",
      "INFO : worker thread finished; awaiting finish of 3 more threads\n",
      "INFO : worker thread finished; awaiting finish of 2 more threads\n",
      "INFO : worker thread finished; awaiting finish of 1 more threads\n",
      "INFO : worker thread finished; awaiting finish of 0 more threads\n",
      "INFO : EPOCH - 1 : training on 3559545 raw words (557629 effective words) took 0.4s, 1325013 effective words/s\n",
      "INFO : worker thread finished; awaiting finish of 3 more threads\n",
      "INFO : worker thread finished; awaiting finish of 2 more threads\n",
      "INFO : worker thread finished; awaiting finish of 1 more threads\n",
      "INFO : worker thread finished; awaiting finish of 0 more threads\n",
      "INFO : EPOCH - 2 : training on 3559545 raw words (557834 effective words) took 0.4s, 1261438 effective words/s\n",
      "INFO : worker thread finished; awaiting finish of 3 more threads\n",
      "INFO : worker thread finished; awaiting finish of 2 more threads\n",
      "INFO : worker thread finished; awaiting finish of 1 more threads\n",
      "INFO : worker thread finished; awaiting finish of 0 more threads\n",
      "INFO : EPOCH - 3 : training on 3559545 raw words (557651 effective words) took 0.4s, 1280881 effective words/s\n",
      "INFO : worker thread finished; awaiting finish of 3 more threads\n",
      "INFO : worker thread finished; awaiting finish of 2 more threads\n",
      "INFO : worker thread finished; awaiting finish of 1 more threads\n",
      "INFO : worker thread finished; awaiting finish of 0 more threads\n",
      "INFO : EPOCH - 4 : training on 3559545 raw words (558418 effective words) took 0.5s, 1222182 effective words/s\n",
      "INFO : worker thread finished; awaiting finish of 3 more threads\n",
      "INFO : worker thread finished; awaiting finish of 2 more threads\n",
      "INFO : worker thread finished; awaiting finish of 1 more threads\n",
      "INFO : worker thread finished; awaiting finish of 0 more threads\n",
      "INFO : EPOCH - 5 : training on 3559545 raw words (557872 effective words) took 0.4s, 1273140 effective words/s\n",
      "INFO : training on a 17797725 raw words (2789404 effective words) took 2.2s, 1256377 effective words/s\n"
     ]
    }
   ],
   "source": [
    "model = gensim.models.Word2Vec(\n",
    "        full_docs,\n",
    "        size=hp[\"size\"],\n",
    "        window=hp[\"window\"],\n",
    "        min_count=hp[\"min_count\"],\n",
    "        workers=hp[\"workers\"])"
   ]
  },
  {
   "cell_type": "code",
   "execution_count": 69,
   "metadata": {},
   "outputs": [],
   "source": [
    "def find_similar_to(word):\n",
    "    return [w for w in model.wv.most_similar(positive=[word])]"
   ]
  },
  {
   "cell_type": "code",
   "execution_count": 70,
   "metadata": {},
   "outputs": [
    {
     "name": "stderr",
     "output_type": "stream",
     "text": [
      "INFO : precomputing L2-norms of word weight vectors\n"
     ]
    },
    {
     "data": {
      "text/plain": [
       "[('>', 0.646530270576477),\n",
       " ('control_if', 0.6425796151161194),\n",
       " ('procedures_call', 0.6209235191345215),\n",
       " ('data_changevariableby', 0.580444872379303),\n",
       " ('sensing_touchingobject', 0.5714806318283081),\n",
       " ('data_itemoflist', 0.5188435316085815),\n",
       " ('sensing_keypressed', 0.499057799577713),\n",
       " ('data_replaceitemoflist', 0.4966532588005066),\n",
       " ('argument_reporter_string_number', 0.4883105456829071),\n",
       " ('control_forever', 0.4862062633037567)]"
      ]
     },
     "execution_count": 70,
     "metadata": {},
     "output_type": "execute_result"
    }
   ],
   "source": [
    "find_similar_to('control_if_else')"
   ]
  },
  {
   "cell_type": "code",
   "execution_count": 72,
   "metadata": {},
   "outputs": [
    {
     "name": "stderr",
     "output_type": "stream",
     "text": [
      "/Users/tylerangert/anaconda3/lib/python3.6/site-packages/ipykernel_launcher.py:1: DeprecationWarning: Call to deprecated `__getitem__` (Method will be removed in 4.0.0, use self.wv.__getitem__() instead).\n",
      "  \"\"\"Entry point for launching an IPython kernel.\n"
     ]
    }
   ],
   "source": [
    "X = model[model.wv.vocab]"
   ]
  },
  {
   "cell_type": "code",
   "execution_count": 74,
   "metadata": {},
   "outputs": [],
   "source": [
    "pca = PCA(n_components=2)\n",
    "result = pca.fit_transform(X)"
   ]
  },
  {
   "cell_type": "code",
   "execution_count": 76,
   "metadata": {},
   "outputs": [
    {
     "data": {
      "image/png": "[encoded data removed]",
      "text/plain": [
       "<Figure size 432x288 with 1 Axes>"
      ]
     },
     "metadata": {},
     "output_type": "display_data"
    },
    {
     "data": {
      "text/plain": [
       "<Figure size 640x480 with 0 Axes>"
      ]
     },
     "metadata": {},
     "output_type": "display_data"
    }
   ],
   "source": [
    "plt.scatter(result[:, 0], result[:, 1])\n",
    "\n",
    "words = list(model.wv.vocab)\n",
    "for i, word in enumerate(words):\n",
    "    plt.annotate(word, xy=(result[i, 0], result[i, 1]))\n",
    "    \n",
    "plt.figure(figsize=(8, 6), dpi= 80, facecolor='w', edgecolor='k')\n",
    "plt.show()"
   ]
  },
  {
   "cell_type": "code",
   "execution_count": null,
   "metadata": {},
   "outputs": [],
   "source": []
  }
 ],
 "metadata": {
  "kernelspec": {
   "display_name": "Python 3",
   "language": "python",
   "name": "python3"
  },
  "language_info": {
   "codemirror_mode": {
    "name": "ipython",
    "version": 3
   },
   "file_extension": ".py",
   "mimetype": "text/x-python",
   "name": "python",
   "nbconvert_exporter": "python",
   "pygments_lexer": "ipython3",
   "version": "3.6.4"
  }
 },
 "nbformat": 4,
 "nbformat_minor": 2
}
