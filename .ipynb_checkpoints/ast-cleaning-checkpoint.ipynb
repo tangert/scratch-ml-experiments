{
 "cells": [
  {
   "cell_type": "markdown",
   "metadata": {},
   "source": [
    "# cleaning ast from project file"
   ]
  },
  {
   "cell_type": "code",
   "execution_count": 518,
   "metadata": {},
   "outputs": [],
   "source": [
    "import json\n",
    "import pprint\n",
    "import collections"
   ]
  },
  {
   "cell_type": "code",
   "execution_count": 519,
   "metadata": {},
   "outputs": [],
   "source": [
    "pp = pprint.PrettyPrinter(indent=4)"
   ]
  },
  {
   "cell_type": "code",
   "execution_count": 520,
   "metadata": {},
   "outputs": [],
   "source": [
    "project_data = {}\n",
    "project = 'parsing-test-simple'\n",
    "with open('data/{}/project.json'.format(project), 'r') as f:\n",
    "    project_data = json.load(f)"
   ]
  },
  {
   "cell_type": "code",
   "execution_count": 521,
   "metadata": {},
   "outputs": [],
   "source": [
    "targets = project_data['targets']\n",
    "sprites = targets[1:]"
   ]
  },
  {
   "cell_type": "code",
   "execution_count": 522,
   "metadata": {},
   "outputs": [],
   "source": [
    "def get_top_blocks(blocks):\n",
    "    return {bid: block for bid,block in blocks.items() if 'topLevel' in list(block) and block['topLevel']}"
   ]
  },
  {
   "cell_type": "code",
   "execution_count": 523,
   "metadata": {},
   "outputs": [],
   "source": [
    "def traverse_blocks(blocks):\n",
    "    \n",
    "    \"\"\"\n",
    "    traverses the blocks dictionary by continually traversing the 'next' property of each block\n",
    "    returns a list of top to bottom paths\n",
    "    \"\"\"\n",
    "    \n",
    "    # 1. Grab the top blocks as reference points\n",
    "    tops = get_top_blocks(blocks)\n",
    "    topids = [bid for bid,block in tops.items()]\n",
    "    \n",
    "    # Store each stack\n",
    "    stacks = []\n",
    "        \n",
    "    # start at each top block and traverse down by seeing each next block\n",
    "    for tid in topids:\n",
    "        stack = traverse_stack([], blocks, tid)\n",
    "        stacks.append(stack)\n",
    "    \n",
    "    return stacks"
   ]
  },
  {
   "cell_type": "code",
   "execution_count": 589,
   "metadata": {},
   "outputs": [],
   "source": [
    "def traverse_stack(curr_stack, all_blocks, block_id):\n",
    "    \"\"\"\n",
    "    Given a block:\n",
    "    1. Initialize with its data\n",
    "    1. Check if it has any children\n",
    "        2. If it has children,\n",
    "            recursively traverse each child block\n",
    "    2. If not, check if it has a next block\n",
    "    3. Repeat the process with the next block\n",
    "    \"\"\"\n",
    "    \n",
    "    #Grab the block\n",
    "    block = all_blocks[block_id]\n",
    "    \n",
    "    # Initialize the object to store the current block \n",
    "    curr_block = {}\n",
    "    curr_block['id'] = block_id\n",
    "    curr_block['type'] = block['opcode']\n",
    "    curr_block['children'] = []\n",
    "    curr_block['isLeaf'] = False\n",
    "    \n",
    "    # after the keys are added, revert back to regular dict\n",
    "    curr_block = curr_block\n",
    "    \n",
    "    # First check for substacks (control flow)\n",
    "    for stackid in ['SUBSTACK', 'SUBSTACK2']:\n",
    "        if stackid in block['inputs']:\n",
    "            child_id = block['inputs'][stackid][1]\n",
    "            # pass in the child stack array into the new one\n",
    "            child_stack = traverse_stack(curr_block['children'], all_blocks, child_id)\n",
    "            curr_block['children'].append(child_stack)\n",
    "\n",
    "\n",
    "    # If there's no next block, return the current stack\n",
    "    # Check if there's a next block\n",
    "    if block['next'] is None:\n",
    "        # A lone block is at the top level and has no next \n",
    "        if block['topLevel']:\n",
    "            return [curr_block]\n",
    "        \n",
    "        # At the end of a tree\n",
    "        if len(curr_block['children']) == 0:\n",
    "            curr_block['isLeaf'] = True\n",
    "        \n",
    "        # At a normal end of a branch\n",
    "        return curr_stack.insert(0,curr_block)\n",
    "\n",
    "    # Otherwise, go to the next block\n",
    "    traverse_stack(curr_stack, all_blocks, block['next'])\n",
    "    \n",
    "    # prepend because it's recursively added from the bottom up\n",
    "    curr_stack.insert(0,curr_block)\n",
    "\n",
    "    return curr_stack"
   ]
  },
  {
   "cell_type": "code",
   "execution_count": 590,
   "metadata": {},
   "outputs": [],
   "source": [
    "# some utils\n",
    "def stack_is_flat(stack):\n",
    "    return all([len(block['children']) == 0 for block in stack])\n",
    "\n",
    "def stack_is_nested(stack):\n",
    "    return not stack_is_flat(stack)"
   ]
  },
  {
   "cell_type": "code",
   "execution_count": 591,
   "metadata": {},
   "outputs": [],
   "source": [
    "all_stacks = traverse_blocks(sprites[0]['blocks'])"
   ]
  },
  {
   "cell_type": "code",
   "execution_count": 592,
   "metadata": {},
   "outputs": [],
   "source": [
    "def extract(stack):\n",
    "    \"\"\"\n",
    "    Given a stack, this will return all of the paths from\n",
    "    the top node to its leaves.\n",
    "    \n",
    "    # go through all condittionals\n",
    "    # go from top to bottom\n",
    "    \n",
    "    \"\"\"\n",
    "    paths = []\n",
    "    \n",
    "    # go through the tree and calculate all of the combinations of node -> node paths\n",
    "    pp.pprint(tree)\n",
    "    for block in stack:\n",
    "        path = []\n",
    "        path.append(block)\n",
    "        # first go through children:\n",
    "        if len(block['children']) == 0:\n",
    "            continue\n",
    "#         else:\n",
    "#             for child in children:\n",
    "                \n",
    "    \n",
    "    return paths"
   ]
  },
  {
   "cell_type": "code",
   "execution_count": 593,
   "metadata": {},
   "outputs": [],
   "source": [
    "def extract_children(child):\n",
    "    path = []\n",
    "    if child['isLeaf']:\n",
    "        return child\n",
    "    if len(child['children']) == 0:\n",
    "        extract_children(child)\n",
    "    return path"
   ]
  },
  {
   "cell_type": "code",
   "execution_count": 594,
   "metadata": {},
   "outputs": [],
   "source": [
    "# def extract_helper(path):\n",
    "#     \"\"\"\n",
    "#     Given a stack, this will return all of the paths from\n",
    "#     the top node to its leaves.\n",
    "#     \"\"\"\n",
    "#     if block['isLeaf']:\n",
    "#         return path\n",
    "    \n",
    "#     return extract_helper(path)\n",
    "#     return 0"
   ]
  },
  {
   "cell_type": "code",
   "execution_count": 595,
   "metadata": {},
   "outputs": [
    {
     "data": {
      "text/plain": [
       "'\\n\\n\\n\\n'"
      ]
     },
     "execution_count": 595,
     "metadata": {},
     "output_type": "execute_result"
    }
   ],
   "source": [
    "# create embeddings first?\n",
    "\"\"\"\n",
    "\n",
    "\n",
    "\n",
    "\"\"\""
   ]
  },
  {
   "cell_type": "code",
   "execution_count": 596,
   "metadata": {},
   "outputs": [],
   "source": [
    "# maybe one option is simply to look at all of the\n",
    "# sequential paths down the tree? to every leaf?"
   ]
  },
  {
   "cell_type": "code",
   "execution_count": 597,
   "metadata": {},
   "outputs": [
    {
     "name": "stdout",
     "output_type": "stream",
     "text": [
      "\n",
      "\n",
      "[   {   'children': [],\n",
      "        'id': '2U2~47{QSP_bc*?H9{Z/',\n",
      "        'isLeaf': False,\n",
      "        'type': 'event_whenflagclicked'},\n",
      "    {   'children': [   {   'children': [],\n",
      "                            'id': 'DL+{c_v=TS{^/U)6`p2P',\n",
      "                            'isLeaf': False,\n",
      "                            'type': 'motion_goto'},\n",
      "                        {   'children': [   {   'children': [],\n",
      "                                                'id': '=cAQ,E,hQ8%*?lIo;8s-',\n",
      "                                                'isLeaf': True,\n",
      "                                                'type': 'motion_turnleft'},\n",
      "                                            None],\n",
      "                            'id': '~un=l%0OqIOIkj?[}9$}',\n",
      "                            'isLeaf': False,\n",
      "                            'type': 'control_if'},\n",
      "                        <Recursion on list with id=140625150992584>],\n",
      "        'id': 'W/-6]su)QLx581@kI-?/',\n",
      "        'isLeaf': False,\n",
      "        'type': 'control_repeat'},\n",
      "    {   'children': [],\n",
      "        'id': 'R#OH+K@F=FKF(Y-t~.l`',\n",
      "        'isLeaf': False,\n",
      "        'type': 'sound_stopallsounds'},\n",
      "    {   'children': [],\n",
      "        'id': 'o04j1mdEsB5o{BmN6CTv',\n",
      "        'isLeaf': True,\n",
      "        'type': 'data_setvariableto'}]\n",
      "\n",
      "\n",
      "[   {   'children': [],\n",
      "        'id': 'ck}JxTe~bq1WN`,gHL#W',\n",
      "        'isLeaf': False,\n",
      "        'type': 'motion_movesteps'},\n",
      "    {   'children': [],\n",
      "        'id': '!#p*FE!2y{3c[e9mw#HM',\n",
      "        'isLeaf': False,\n",
      "        'type': 'motion_goto'},\n",
      "    {   'children': [],\n",
      "        'id': 's!:N:8jz~=(gNw|QBgF%',\n",
      "        'isLeaf': False,\n",
      "        'type': 'looks_thinkforsecs'},\n",
      "    {   'children': [],\n",
      "        'id': '~VIs]v|p/S=1g)qa|}Vg',\n",
      "        'isLeaf': False,\n",
      "        'type': 'looks_say'},\n",
      "    {   'children': [],\n",
      "        'id': 'L~5P#+t/Rlo,PtRQ9U{n',\n",
      "        'isLeaf': False,\n",
      "        'type': 'sound_playuntildone'},\n",
      "    {   'children': [],\n",
      "        'id': 'UzwAU8?Wc@rdhpOrjMmZ',\n",
      "        'isLeaf': True,\n",
      "        'type': 'event_broadcast'}]\n",
      "\n",
      "\n",
      "[   {   'children': [],\n",
      "        'id': '84:+X?A:D.A,^gF}uA4r',\n",
      "        'isLeaf': False,\n",
      "        'type': 'operator_and'}]\n"
     ]
    }
   ],
   "source": [
    "for s in all_stacks:\n",
    "    print(\"\\n\")\n",
    "    pp.pprint(s)\n",
    "    path = []\n",
    "    # make a path that goes from every top level to the leaf\n",
    "#     for block in s:"
   ]
  },
  {
   "cell_type": "code",
   "execution_count": null,
   "metadata": {},
   "outputs": [],
   "source": []
  }
 ],
 "metadata": {
  "kernelspec": {
   "display_name": "Python 3",
   "language": "python",
   "name": "python3"
  },
  "language_info": {
   "codemirror_mode": {
    "name": "ipython",
    "version": 3
   },
   "file_extension": ".py",
   "mimetype": "text/x-python",
   "name": "python",
   "nbconvert_exporter": "python",
   "pygments_lexer": "ipython3",
   "version": "3.6.4"
  }
 },
 "nbformat": 4,
 "nbformat_minor": 2
}
