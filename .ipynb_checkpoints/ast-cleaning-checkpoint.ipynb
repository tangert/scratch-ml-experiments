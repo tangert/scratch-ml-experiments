{
 "cells": [
  {
   "cell_type": "code",
   "execution_count": 4,
   "metadata": {},
   "outputs": [],
   "source": [
    "import json\n",
    "import pprint\n",
    "import collections\n",
    "import requests\n",
    "import pandas as pd\n",
    "import numpy as np\n",
    "from pynpm import NPMPackage"
   ]
  },
  {
   "cell_type": "code",
   "execution_count": 10,
   "metadata": {},
   "outputs": [],
   "source": [
    "pp = pprint.PrettyPrinter(indent=2)"
   ]
  },
  {
   "cell_type": "code",
   "execution_count": 11,
   "metadata": {},
   "outputs": [],
   "source": [
    "project_data = {}\n",
    "project = 'parsing-test-simple'\n",
    "with open('data/{}/project.json'.format(project), 'r') as f:\n",
    "    project_data = json.load(f)"
   ]
  },
  {
   "cell_type": "code",
   "execution_count": 19,
   "metadata": {},
   "outputs": [],
   "source": [
    "targets = project_data['targets']\n",
    "sprites = targets[1:]"
   ]
  },
  {
   "cell_type": "code",
   "execution_count": 100,
   "metadata": {},
   "outputs": [],
   "source": [
    "blks =  sprites[0]['blocks']\n",
    "tops = {k:blks[k] for k in blks if  blks[k]['topLevel']}"
   ]
  },
  {
   "cell_type": "code",
   "execution_count": 101,
   "metadata": {},
   "outputs": [],
   "source": [
    "def get_terminal_blocks(blocks):\n",
    "    return {k:blocks[k] for k in blocks\n",
    "             if blocks[k]['next'] is None # nothing after it\n",
    "             if not blocks[k]['shadow'] # not a shadow block\n",
    "             if 'operator' not in blocks[k]['opcode'] # not an operator\n",
    "             if 'SUBSTACK' not in blocks[k]['inputs'] # has no children\n",
    "             if 'SUBSTACK2' not in blocks[k]['inputs'] }"
   ]
  },
  {
   "cell_type": "code",
   "execution_count": 105,
   "metadata": {},
   "outputs": [],
   "source": [
    "# These are nodes that are essentially at the \"end\" of each tree/stack and can produce distinct paths all the way up to their parents.\n",
    "terminals = get_terminal_blocks(blks)"
   ]
  },
  {
   "cell_type": "code",
   "execution_count": 155,
   "metadata": {},
   "outputs": [
    {
     "name": "stdout",
     "output_type": "stream",
     "text": [
      "['motion_movesteps', '_', 'motion_goto', '_', 'looks_thinkforsecs', '_', 'looks_say', '_', 'sound_playuntildone', '_', 'event_broadcast']\n",
      "['event_whenflagclicked', '_', 'control_repeat', '_', 'sound_stopallsounds', '_', 'data_setvariableto']\n",
      "['event_whenflagclicked', '_', 'control_repeat', '>', 'motion_goto', '_', 'control_if', '>', 'control_if', '>', 'motion_turnleft']\n",
      "['event_whenflagclicked', '_', 'control_repeat', '>', 'motion_goto', '_', 'control_if', '_', 'control_if_else', '>', 'motion_movesteps']\n",
      "['event_whenflagclicked', '_', 'control_repeat', '>', 'motion_goto', '_', 'control_if', '_', 'control_if_else', '_', 'looks_sayforsecs', '_', 'looks_say']\n",
      "['event_whenflagclicked', '_', 'control_repeat', '>', 'motion_goto', '_', 'control_if', '_', 'control_if_else', '>', 'motion_movesteps', '_', 'motion_goto']\n"
     ]
    }
   ],
   "source": [
    "paths = []\n",
    "\n",
    "# symbols for direction in the tree\n",
    "_nest = '>'\n",
    "_next = '_'\n",
    "\n",
    "for t in terminals:\n",
    "    \n",
    "    # initialize the path ending with the terminal\n",
    "    path = [terminals[t]['opcode']]\n",
    "    \n",
    "    next_parent_id = terminals[t]['parent']\n",
    "    next_parent = blks[next_parent_id]\n",
    "    \n",
    "    if next_parent_id is not None:\n",
    "        if t == next_parent['next']:\n",
    "            path.insert(0,_next)\n",
    "        else:\n",
    "            path.insert(0,_nest)\n",
    "            \n",
    "    # initializie before traverseing\n",
    "    path.insert(0,next_parent['opcode'])\n",
    "    curr_parent_id = next_parent_id\n",
    "    \n",
    "    # go up the tree\n",
    "    while True:\n",
    "        # set the current parent to its own parent\n",
    "        \n",
    "        # in order to determine nesting / sequence,\n",
    "        # if the current block id is the same as its parent's next\n",
    "        # then it's next\n",
    "        #  if it's not, then it's nested\n",
    "        next_parent_id = blks[curr_parent_id]['parent']\n",
    "        \n",
    "        if next_parent_id is not None:\n",
    "            \n",
    "            curr_parent = blks[curr_parent_id]\n",
    "            next_parent = blks[next_parent_id]\n",
    "            \n",
    "            if curr_parent_id == next_parent['next']:\n",
    "                path.insert(0,_next)\n",
    "            else:\n",
    "                path.insert(0,_nest)\n",
    "                \n",
    "            path.insert(0,next_parent['opcode'])\n",
    "            \n",
    "            # reset for the next iteration\n",
    "            curr_parent_id = next_parent_id\n",
    "        else:\n",
    "            break\n",
    "    \n",
    "    paths.append(path)\n",
    "    print(path)"
   ]
  },
  {
   "cell_type": "code",
   "execution_count": 128,
   "metadata": {},
   "outputs": [],
   "source": [
    "# for each path, now you can calculate the window sequences for an RNN"
   ]
  },
  {
   "cell_type": "code",
   "execution_count": 9,
   "metadata": {},
   "outputs": [],
   "source": [
    "def get_top_blocks(blocks):\n",
    "    return {bid: block for bid,block in blocks.items() if 'topLevel' in list(block) and block['topLevel']}"
   ]
  },
  {
   "cell_type": "code",
   "execution_count": 1548,
   "metadata": {},
   "outputs": [],
   "source": [
    "# next idea\n",
    "# do an iterative depth first search for each node that has children\n",
    "# go down\n",
    "# go in"
   ]
  },
  {
   "cell_type": "code",
   "execution_count": 1545,
   "metadata": {},
   "outputs": [],
   "source": [
    "def traverse_blocks(blocks):\n",
    "    \n",
    "    \"\"\"\n",
    "    traverses the blocks dictionary by continually traversing the 'next' property of each block\n",
    "    returns a list of top to bottom paths\n",
    "    \"\"\"\n",
    "    \n",
    "    # 1. Grab the top blocks as reference points\n",
    "    tops = get_top_blocks(blocks)\n",
    "    topids = [bid for bid,block in tops.items()]\n",
    "    \n",
    "    # Store each stack\n",
    "    stacks = []\n",
    "        \n",
    "    # start at each top block and traverse down by seeing each next block\n",
    "    for tid in topids:\n",
    "        stack = build_stack_tree([], blocks, tid)\n",
    "        stacks.append(stack)\n",
    "    \n",
    "    return stacks"
   ]
  },
  {
   "cell_type": "code",
   "execution_count": 1546,
   "metadata": {},
   "outputs": [],
   "source": [
    "# can you do this raw without building the tree?"
   ]
  },
  {
   "cell_type": "code",
   "execution_count": 1515,
   "metadata": {},
   "outputs": [],
   "source": [
    "def build_stack_tree(curr_stack, all_blocks, block_id):\n",
    "    \"\"\"\n",
    "    Given a block:\n",
    "    1. Initialize with its data\n",
    "    1. Check if it has any children\n",
    "        2. If it has children,\n",
    "            recursively traverse each child block\n",
    "    2. If not, check if it has a next block\n",
    "    3. Repeat the process with the next block\n",
    "    \"\"\"\n",
    "    \n",
    "    #Grab the block\n",
    "    block = all_blocks[block_id]\n",
    "\n",
    "    # Initialize the object to store the current block \n",
    "    curr_block = {\n",
    "        'id': block_id,\n",
    "        'type': block['opcode'],\n",
    "        'category': block['opcode'].split('_')[0],\n",
    "        'next': block['next'],\n",
    "        'parent': block['parent'],\n",
    "        'children': [],\n",
    "        'isLeaf': False\n",
    "    }\n",
    "    \n",
    "    # First check for substacks (control flow)\n",
    "    for stackid in ['SUBSTACK', 'SUBSTACK2']:\n",
    "        if stackid in block['inputs']:\n",
    "            child_id = block['inputs'][stackid][1]\n",
    "            # pass in the child stack array into the new one\n",
    "            child_stack = build_stack_tree(curr_block['children'], all_blocks, child_id)\n",
    "            \n",
    "            # hacky fix for the list duplicate...\n",
    "            # TODO: make an actual solution??\n",
    "            # why does this append a copy of both children in one array?\n",
    "            if child_stack is not None and type(child_stack) is not list: \n",
    "                curr_block['children'].append(child_stack)\n",
    "\n",
    "    # If there's no next block, return the current stack\n",
    "    # Check if there's a next block\n",
    "    if block['next'] is None:\n",
    "        # A lone block is at the top level and has no next \n",
    "        if block['topLevel']:\n",
    "            return [curr_block]\n",
    "        \n",
    "        # At the end of a tree\n",
    "        if len(curr_block['children']) == 0:\n",
    "            curr_block['isLeaf'] = True\n",
    "        \n",
    "        # At a normal end of a branch\n",
    "        return curr_stack.insert(0,curr_block)\n",
    "\n",
    "    # Otherwise, go to the next block\n",
    "    build_stack_tree(curr_stack, all_blocks, block['next'])\n",
    "    \n",
    "    # prepend because it's recursively added from the bottom up\n",
    "    curr_stack.insert(0,curr_block)\n",
    "\n",
    "    return curr_stack"
   ]
  },
  {
   "cell_type": "code",
   "execution_count": 1516,
   "metadata": {},
   "outputs": [],
   "source": [
    "def build_stack_sequence(all_blocks, tid):\n",
    "    \"\"\"\n",
    "    currently only looks at the next block and doesn't consider nesting.\n",
    "    refactor to include nested paths/sequences by doing a depth-first traversal\n",
    "    \"\"\"\n",
    "    # This produces ONE depth first traversal from top -> bottom\n",
    "    stack = []\n",
    "    curr_id = tid\n",
    "    stack.append(all_blocks[curr_id]['opcode'])\n",
    "    while curr_id is not None:\n",
    "        curr_id = all_blocks[curr_id]['next']\n",
    "        if curr_id != None:\n",
    "            stack.append(all_blocks[curr_id]['opcode'])\n",
    "    return stack"
   ]
  },
  {
   "cell_type": "code",
   "execution_count": 1517,
   "metadata": {},
   "outputs": [],
   "source": [
    "def build_rnn_sequences(stack, seq_len):\n",
    "    \"\"\"\n",
    "    produces a list of rnn-ready sequences given an input stack sequence\n",
    "    each stack is simply ONE depth first traversal stack\n",
    "    this produces iterations through the stack\n",
    "    \"\"\"\n",
    "    seqs = []\n",
    "    for i in range(seq_len):\n",
    "        seq = stack[i:seq_len]\n",
    "        if(len(seq)<seq_len):\n",
    "            seq.extend(['none'] * (seq_len - len(seq)))\n",
    "        seqs.append(seq)\n",
    "    return seqs"
   ]
  },
  {
   "cell_type": "code",
   "execution_count": 1518,
   "metadata": {},
   "outputs": [],
   "source": [
    "# some utils\n",
    "def stack_is_flat(stack):\n",
    "    return all([len(block['children']) == 0 for block in stack])\n",
    "\n",
    "def stack_is_nested(stack):\n",
    "    return not stack_is_flat(stack)"
   ]
  },
  {
   "cell_type": "code",
   "execution_count": 1519,
   "metadata": {},
   "outputs": [],
   "source": [
    "def clean_block(block):\n",
    "    \"\"\"removes children from block \"\"\"\n",
    "    return clean_key(block, 'children')"
   ]
  },
  {
   "cell_type": "code",
   "execution_count": 1520,
   "metadata": {},
   "outputs": [],
   "source": [
    "def clean_key(d, key):\n",
    "    \"\"\" removes key from a dictionary\"\"\"\n",
    "    return {k:d[k] for k in d if k !=key}"
   ]
  },
  {
   "cell_type": "code",
   "execution_count": 1521,
   "metadata": {},
   "outputs": [],
   "source": [
    "og_blocks = sprites[0]['blocks']"
   ]
  },
  {
   "cell_type": "code",
   "execution_count": 1522,
   "metadata": {},
   "outputs": [],
   "source": [
    "# 1. Grab the top blocks as reference points\n",
    "tops = get_top_blocks(og_blocks)\n",
    "topids = [bid for bid,block in tops.items()]"
   ]
  },
  {
   "cell_type": "code",
   "execution_count": 1523,
   "metadata": {},
   "outputs": [],
   "source": [
    "stacks = traverse_blocks(og_blocks)"
   ]
  },
  {
   "cell_type": "code",
   "execution_count": 1524,
   "metadata": {},
   "outputs": [],
   "source": [
    "# def traverse_children_helper(starting_block, current_path, all_paths):\n",
    "#     # starting condition, add the starting block\n",
    "#     if(len(current_path) == 0):\n",
    "#         current_path.append(clean_block(starting_block))\n",
    "    \n",
    "#     # base case\n",
    "#     if len(starting_block['children']) == 0:\n",
    "#         # extend instead of append keeps the list flat!\n",
    "#         if len(current_path) > 0:\n",
    "#             # add the path once youve reached a node that doesnt have any children\n",
    "#             all_paths.append(current_path)\n",
    "\n",
    "#     # first add terminal children to the current path\n",
    "# #     orphans = [c for c in starting_block['children'] if len(c['children']) == 0]\n",
    "    \n",
    "# #     if len(orphans) > 0:\n",
    "# #         current_path = current_path + [clean_block(o) for o in orphans]\n",
    "# #         for o in orphans:\n",
    "# #             current_path = current_path + [clean_block(o) for o in orphans]\n",
    "\n",
    "# #             for child in starting_block['children']:\n",
    "# #                 child_branch = current_path + [clean_block(child)]\n",
    "\n",
    "# #     #         print([b['type'] for b in child_branch])\n",
    "# #             traverse_children_helper(child, child_branch, all_paths)\n",
    "# #     else:\n",
    "#         for child in starting_block['children']:\n",
    "#             child_branch = current_path + [clean_block(child)]\n",
    "\n",
    "#     #         print([b['type'] for b in child_branch])\n",
    "#             traverse_children_helper(child, child_branch, all_paths)\n",
    "\n",
    "#     return all_paths"
   ]
  },
  {
   "cell_type": "code",
   "execution_count": 1525,
   "metadata": {},
   "outputs": [],
   "source": [
    "# def traverse_children_helper(starting_block, current_path, all_paths):\n",
    "#     # starting condition, add the starting block\n",
    "#     if(len(current_path) == 0):\n",
    "#         current_path.append(clean_block(starting_block))\n",
    "    \n",
    "#     # base case\n",
    "#     if len(starting_block['children']) == 0:\n",
    "#         # extend instead of append keeps the list flat!\n",
    "#         if len(current_path) > 0:\n",
    "#             # add the path once youve reached a node that doesnt have any children\n",
    "#             all_paths.append(current_path)\n",
    "        \n",
    "#     all_children = starting_block['children']\n",
    "    \n",
    "#     # maybe store children to prepend and children to append?\n",
    "#     for i, child in enumerate(all_children):\n",
    "#         child_branch = current_path + [clean_block(child)]\n",
    "#         traverse_children_helper(child, child_branch, all_paths)\n",
    "\n",
    "#     return all_paths"
   ]
  },
  {
   "cell_type": "code",
   "execution_count": 1540,
   "metadata": {},
   "outputs": [],
   "source": [
    "def traverse_children(starting_block):\n",
    "    \"\"\"\n",
    "    go through children iteratively\n",
    "    if the child is nested, call recursive\n",
    "    else add to base path\n",
    "    \"\"\"\n",
    "    return traverse_children_helper(starting_block,[],[])\n",
    "#     all_paths = []\n",
    "#     base_path = [clean_block(starting_block)]\n",
    "    \n",
    "    # start with the orphans in the beginning\n",
    "    # gradually add\n",
    "#     for child in starting_block['children']:\n",
    "#         print(\"CHILD: {}\".format(child['type']))\n",
    "#         if len(child['children']) == 0:\n",
    "#             print(\"No children: {}\".format(child['type']))\n",
    "#             all_paths.append(base_path + [child])\n",
    "#         else:\n",
    "#             # recursive paths\n",
    "#             r_paths = traverse_children_helper(starting_block, [], [])\n",
    "#             print(r_paths)\n",
    "#             for ap in all_paths:   \n",
    "#                 for rp in r_paths:\n",
    "#                     ap.append(rp)\n",
    "\n",
    "#     return all_paths"
   ]
  },
  {
   "cell_type": "code",
   "execution_count": 1541,
   "metadata": {},
   "outputs": [],
   "source": [
    "def traverse_children_helper(starting_block, current_path, all_paths):\n",
    "    # base case\n",
    "    if len(starting_block['children']) == 0:\n",
    "        # extend instead of append keeps the list flat!\n",
    "        if len(current_path) > 0:\n",
    "            # add the path once youve reached a node that doesnt have any children\n",
    "            all_paths.append(current_path)\n",
    "        \n",
    "    all_children = starting_block['children']\n",
    "    \n",
    "    # maybe store children to prepend and children to append?\n",
    "    for i, child in enumerate(all_children):\n",
    "        child_branch = current_path + [clean_block(child)]\n",
    "        traverse_children_helper(child, child_branch, all_paths)\n",
    "\n",
    "    return all_paths"
   ]
  },
  {
   "cell_type": "code",
   "execution_count": 1542,
   "metadata": {},
   "outputs": [
    {
     "data": {
      "text/plain": [
       "'\\nfor each block in the stack\\n    if it has children:\\n        mark this as the last stopping point\\n        go and check through each of its children:\\n            add child to path\\n                if it has children:\\n                    repeat the process\\n                else:\\n                    end the path\\n                    return to the last stopping point\\n                    continue on from there\\n                    \\n\\n\\n\\nidea: use the parent property to build UP the path?\\n'"
      ]
     },
     "execution_count": 1542,
     "metadata": {},
     "output_type": "execute_result"
    }
   ],
   "source": [
    "\"\"\"\n",
    "for each block in the stack\n",
    "    if it has children:\n",
    "        mark this as the last stopping point\n",
    "        go and check through each of its children:\n",
    "            add child to path\n",
    "                if it has children:\n",
    "                    repeat the process\n",
    "                else:\n",
    "                    end the path\n",
    "                    return to the last stopping point\n",
    "                    continue on from there\n",
    "                    \n",
    "\n",
    "\n",
    "\n",
    "idea: use the parent property to build UP the path?\n",
    "\"\"\""
   ]
  },
  {
   "cell_type": "code",
   "execution_count": 1543,
   "metadata": {},
   "outputs": [
    {
     "name": "stdout",
     "output_type": "stream",
     "text": [
      "%%%%%%%%%%%%%%%%\n",
      "Stack, flat: \n",
      "['event_whenflagclicked', 'control_repeat', 'sound_stopallsounds', 'data_setvariableto']\n",
      "%%%%%%%%%%%%%%%%\n",
      "\n",
      "\n",
      "\n",
      "Parent block: event_whenflagclicked\n",
      "Number of paths: 0\n",
      "\n",
      "\n",
      "\n",
      "\n",
      "Parent block: control_repeat\n",
      "Number of paths: 7\n",
      "\n",
      "['motion_goto']\n",
      "['DL+{c_v=TS{^/U)6`p2P']\n",
      "\n",
      "\n",
      "['control_if', 'control_if', 'motion_turnleft']\n",
      "['~un=l%0OqIOIkj?[}9$}', 'k}0nY+Dc{O8=rHbf-5T+', '=cAQ,E,hQ8%*?lIo;8s-']\n",
      "\n",
      "\n",
      "['control_if_else', 'motion_movesteps']\n",
      "['_%]q8OOM%O2Kg.^}YP{)', '/g11*V2wlUZz-,dpGP]]']\n",
      "\n",
      "\n",
      "['control_if_else', 'motion_movesteps']\n",
      "['_%]q8OOM%O2Kg.^}YP{)', 'b@@f_i866zVwC5$%k!|3']\n",
      "\n",
      "\n",
      "['control_if_else', 'motion_goto']\n",
      "['_%]q8OOM%O2Kg.^}YP{)', 'dwTkH.J6:Navks$Yi,f3']\n",
      "\n",
      "\n",
      "['looks_sayforsecs']\n",
      "['8@)B=HbD|EJ5Wh$[A(#8']\n",
      "\n",
      "\n",
      "['looks_say']\n",
      "['F6vKC0Rf|NW8V6tUo8!=']\n",
      "\n",
      "\n",
      "\n",
      "\n",
      "\n",
      "Parent block: sound_stopallsounds\n",
      "Number of paths: 0\n",
      "\n",
      "\n",
      "\n",
      "\n",
      "Parent block: data_setvariableto\n",
      "Number of paths: 0\n",
      "\n"
     ]
    }
   ],
   "source": [
    "# stores all depth-first paths from the given stack.\n",
    "all_paths = []\n",
    "s = stacks[0]\n",
    "\n",
    "\n",
    "print(\"%%%%%%%%%%%%%%%%\")\n",
    "print(\"Stack, flat: \")\n",
    "print([b['type'] for b in s])\n",
    "print(\"%%%%%%%%%%%%%%%%\")\n",
    "\n",
    "# traversals = [traverse_children(block) for block in s]\n",
    "\n",
    "for block in s:\n",
    "    traversed = traverse_children(block)\n",
    "    print(\"\\n\\n\\nParent block: {}\".format(block['type']))\n",
    "    print(\"Number of paths: {}\\n\".format(len(traversed)))\n",
    "    \n",
    "    ### if the length > 1 then it is a child path and should be permuted\n",
    "#     print(traversed)\n",
    "    for t in traversed:\n",
    "#         print(t)\n",
    "        # right now have to subtract off the last one...\n",
    "        print([b['type'] for b in t])\n",
    "        print([b['id'] for b in t])\n",
    "        print(\"\\n\")"
   ]
  },
  {
   "cell_type": "code",
   "execution_count": 1502,
   "metadata": {},
   "outputs": [
    {
     "data": {
      "text/plain": [
       "{'category': 'control',\n",
       " 'children': [{'category': 'motion',\n",
       "   'children': [],\n",
       "   'id': 'DL+{c_v=TS{^/U)6`p2P',\n",
       "   'isLeaf': False,\n",
       "   'next': '~un=l%0OqIOIkj?[}9$}',\n",
       "   'parent': 'W/-6]su)QLx581@kI-?/',\n",
       "   'type': 'motion_goto'},\n",
       "  {'category': 'control',\n",
       "   'children': [{'category': 'motion',\n",
       "     'children': [],\n",
       "     'id': '=cAQ,E,hQ8%*?lIo;8s-',\n",
       "     'isLeaf': True,\n",
       "     'next': None,\n",
       "     'parent': '~un=l%0OqIOIkj?[}9$}',\n",
       "     'type': 'motion_turnleft'}],\n",
       "   'id': '~un=l%0OqIOIkj?[}9$}',\n",
       "   'isLeaf': False,\n",
       "   'next': None,\n",
       "   'parent': 'DL+{c_v=TS{^/U)6`p2P',\n",
       "   'type': 'control_if'}],\n",
       " 'id': 'W/-6]su)QLx581@kI-?/',\n",
       " 'isLeaf': False,\n",
       " 'next': 'R#OH+K@F=FKF(Y-t~.l`',\n",
       " 'parent': '2U2~47{QSP_bc*?H9{Z/',\n",
       " 'type': 'control_repeat'}"
      ]
     },
     "execution_count": 1502,
     "metadata": {},
     "output_type": "execute_result"
    }
   ],
   "source": [
    "sample_blocks[0][1]"
   ]
  },
  {
   "cell_type": "code",
   "execution_count": 1544,
   "metadata": {},
   "outputs": [
    {
     "ename": "TypeError",
     "evalue": "traverse_children() takes 1 positional argument but 3 were given",
     "output_type": "error",
     "traceback": [
      "\u001b[0;31m---------------------------------------------------------------------------\u001b[0m",
      "\u001b[0;31mTypeError\u001b[0m                                 Traceback (most recent call last)",
      "\u001b[0;32m<ipython-input-1544-f782c9331457>\u001b[0m in \u001b[0;36m<module>\u001b[0;34m()\u001b[0m\n\u001b[0;32m----> 1\u001b[0;31m \u001b[0mpaths\u001b[0m \u001b[0;34m=\u001b[0m \u001b[0mtraverse_children\u001b[0m\u001b[0;34m(\u001b[0m\u001b[0msample_blocks\u001b[0m\u001b[0;34m[\u001b[0m\u001b[0;36m0\u001b[0m\u001b[0;34m]\u001b[0m\u001b[0;34m[\u001b[0m\u001b[0;36m1\u001b[0m\u001b[0;34m]\u001b[0m\u001b[0;34m,\u001b[0m \u001b[0;34m[\u001b[0m\u001b[0;34m]\u001b[0m\u001b[0;34m,\u001b[0m \u001b[0;34m[\u001b[0m\u001b[0;34m]\u001b[0m\u001b[0;34m)\u001b[0m\u001b[0;34m\u001b[0m\u001b[0m\n\u001b[0m",
      "\u001b[0;31mTypeError\u001b[0m: traverse_children() takes 1 positional argument but 3 were given"
     ]
    }
   ],
   "source": [
    "paths = traverse_children(sample_blocks[0][1], [], [])"
   ]
  },
  {
   "cell_type": "code",
   "execution_count": 1097,
   "metadata": {},
   "outputs": [
    {
     "name": "stdout",
     "output_type": "stream",
     "text": [
      "['control', 'motion', 'control', 'motion']\n"
     ]
    }
   ],
   "source": [
    "print([b['category'] for b in paths])"
   ]
  },
  {
   "cell_type": "markdown",
   "metadata": {},
   "source": [
    "## main idea\n",
    "1. do a depth first traversal on each tree for each stack\n",
    "2. save each path in the search\n",
    "3. learn to predict the last node in each path! pad it by the max length of each path."
   ]
  },
  {
   "cell_type": "code",
   "execution_count": null,
   "metadata": {},
   "outputs": [],
   "source": []
  }
 ],
 "metadata": {
  "kernelspec": {
   "display_name": "Python 3",
   "language": "python",
   "name": "python3"
  },
  "language_info": {
   "codemirror_mode": {
    "name": "ipython",
    "version": 3
   },
   "file_extension": ".py",
   "mimetype": "text/x-python",
   "name": "python",
   "nbconvert_exporter": "python",
   "pygments_lexer": "ipython3",
   "version": "3.6.4"
  }
 },
 "nbformat": 4,
 "nbformat_minor": 2
}
