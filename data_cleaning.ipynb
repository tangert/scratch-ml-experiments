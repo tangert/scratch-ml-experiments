{
 "cells": [
  {
   "cell_type": "code",
   "execution_count": 1,
   "metadata": {},
   "outputs": [],
   "source": [
    "import json\n",
    "import pprint\n",
    "import collections\n",
    "import requests\n",
    "import pandas as pd\n",
    "import numpy as np\n",
    "from pynpm import NPMPackage"
   ]
  },
  {
   "cell_type": "code",
   "execution_count": 2,
   "metadata": {},
   "outputs": [],
   "source": [
    "def get_top_blocks(blocks):\n",
    "    return {bid: block for bid,block in blocks.items() if 'topLevel' in list(block) and block['topLevel']}"
   ]
  },
  {
   "cell_type": "code",
   "execution_count": 3,
   "metadata": {},
   "outputs": [],
   "source": [
    "def build_stack_sequence(all_blocks, tid):\n",
    "    \"\"\" builds a sequential stack sequence \"\"\"\n",
    "    stack = []\n",
    "    curr_id = tid\n",
    "    stack.append(all_blocks[curr_id]['opcode'])\n",
    "    while curr_id is not None:\n",
    "        curr_id = all_blocks[curr_id]['next']\n",
    "        if curr_id != None:\n",
    "            stack.append(all_blocks[curr_id]['opcode'])\n",
    "    return stack"
   ]
  },
  {
   "cell_type": "code",
   "execution_count": 4,
   "metadata": {},
   "outputs": [],
   "source": [
    "def build_rnn_sequences(stack, seq_len):\n",
    "    \"\"\"\n",
    "    produces a list of rnn-ready sequences given an input stack sequence\n",
    "    iterates through\n",
    "    \"\"\"\n",
    "    seqs = []\n",
    "    for i in range(seq_len):\n",
    "        seq = stack[i:seq_len]\n",
    "        if(len(seq)<seq_len):\n",
    "            seq.extend([None] * (seq_len - len(seq)))\n",
    "        if(not all(el is None for el in seq)):\n",
    "            seqs.append(seq)\n",
    "    return seqs"
   ]
  },
  {
   "cell_type": "code",
   "execution_count": 5,
   "metadata": {},
   "outputs": [],
   "source": [
    "def get_terminal_blocks(blocks):\n",
    "    return { k:blocks[k] for k in blocks\n",
    "             if type(blocks[k]) is dict # prevents stop blocks\n",
    "             if blocks[k]['next'] is None # nothing after it\n",
    "             if not blocks[k]['shadow'] # not a shadow block\n",
    "             if 'operator' not in blocks[k]['opcode'] # not an operator\n",
    "             if 'SUBSTACK' not in blocks[k]['inputs'] # has no children\n",
    "             if 'SUBSTACK2' not in blocks[k]['inputs'] }"
   ]
  },
  {
   "cell_type": "code",
   "execution_count": 6,
   "metadata": {},
   "outputs": [],
   "source": [
    "def filter_blocks(blocks):\n",
    "    return { k:blocks[k] for k in blocks \n",
    "            if type(blocks[k]) is dict # prevents stop blocks\n",
    "            if 'operator' not in blocks[k]['opcode'] # prevents operators\n",
    "           }"
   ]
  },
  {
   "cell_type": "code",
   "execution_count": 7,
   "metadata": {},
   "outputs": [],
   "source": [
    "def get_paths(blks):\n",
    "    \"\"\" returns all of the paths from top->terminal block of a sprite \"\"\"\n",
    "    paths = []\n",
    "    blks = filter_blocks(blks)\n",
    "    \n",
    "    # symbols for direction in the tree\n",
    "    _nest = '>'\n",
    "    _next = '-'\n",
    "    \n",
    "    terminals = get_terminal_blocks(blks)\n",
    "\n",
    "    for t in terminals:\n",
    "\n",
    "        # initialize the path ending with the terminal\n",
    "\n",
    "        curr_parent_id = t\n",
    "        curr_parent = blks[curr_parent_id]\n",
    "        next_parent_id = terminals[t]['parent']\n",
    "        path = [curr_parent['opcode']]\n",
    "        \n",
    "        should_dump = False\n",
    "        \n",
    "        if next_parent_id is not None and next_parent_id in blks:\n",
    "            \n",
    "            next_parent = blks[next_parent_id]\n",
    "            \n",
    "            if t == next_parent['next']:\n",
    "                path.insert(0,_next)\n",
    "            else:\n",
    "                path.insert(0,_nest)\n",
    "\n",
    "            # initializie before traverseing\n",
    "            path.insert(0,next_parent['opcode'])\n",
    "\n",
    "            # begin the traversal with the next parent\n",
    "            curr_parent_id = next_parent_id\n",
    "\n",
    "            # go up the tree\n",
    "            while True:\n",
    "                # set the current parent to its own parent\n",
    "\n",
    "                # in order to determine nesting / sequence,\n",
    "                # if the current block id is the same as its parent's next\n",
    "                # then it's next\n",
    "                #  if it's not, then it's nested\n",
    "                next_parent_id = blks[curr_parent_id]['parent']\n",
    "                \n",
    "                if next_parent_id is not None and next_parent_id in blks:\n",
    "                    \n",
    "                        curr_parent = blks[curr_parent_id]\n",
    "                        next_parent = blks[next_parent_id]\n",
    "\n",
    "                        if curr_parent_id == next_parent['next']:\n",
    "                            path.insert(0,_next)\n",
    "                        else:\n",
    "                            path.insert(0,_nest)\n",
    "\n",
    "                        path.insert(0,next_parent['opcode'])\n",
    "\n",
    "                        # reset for the next iteration\n",
    "                        curr_parent_id = next_parent_id\n",
    "    \n",
    "                else:\n",
    "                    break\n",
    "                    \n",
    "            if not should_dump:\n",
    "                paths.append(path)\n",
    "            else:\n",
    "                continue\n",
    "    \n",
    "    return paths"
   ]
  },
  {
   "cell_type": "code",
   "execution_count": 8,
   "metadata": {},
   "outputs": [],
   "source": [
    "pp = pprint.PrettyPrinter(indent=4)"
   ]
  },
  {
   "cell_type": "code",
   "execution_count": 9,
   "metadata": {},
   "outputs": [],
   "source": [
    "project_id_df = pd.read_csv('data/project-ids/project_ids_train_1000.csv')"
   ]
  },
  {
   "cell_type": "code",
   "execution_count": 10,
   "metadata": {},
   "outputs": [],
   "source": [
    "project_ids = list(project_id_df['id'])"
   ]
  },
  {
   "cell_type": "code",
   "execution_count": 11,
   "metadata": {},
   "outputs": [],
   "source": [
    "def download_projects(project_ids):\n",
    "    for pid in project_ids:\n",
    "        proj_url = 'https://projects.scratch.mit.edu/{}'.format(pid)\n",
    "        r = requests.get(url = proj_url, params = {}) \n",
    "        proj_data = r.json()\n",
    "        with open('data/project-json/{}.json'.format(pid), 'w') as outfile:\n",
    "            json.dump(proj_data, outfile)"
   ]
  },
  {
   "cell_type": "code",
   "execution_count": 16,
   "metadata": {},
   "outputs": [],
   "source": [
    "def make_sequences():\n",
    "    print('what')\n",
    "    all_sequences = []\n",
    "\n",
    "    for pid in project_ids:\n",
    "        # sending get request and saving the response as response object \n",
    "        proj_path = 'data/project-json/{}.json'.format(pid)\n",
    "\n",
    "        # load the pre-downloaded project json data\n",
    "        with open(proj_path) as f:\n",
    "\n",
    "            proj_data = json.load(f)\n",
    "            sprites = proj_data['targets'][1:] \n",
    "\n",
    "            for s in sprites:\n",
    "                all_blocks = s['blocks']\n",
    "                paths = get_paths(all_blocks)\n",
    "                \n",
    "                # filter out any lone soliders if necessary\n",
    "                paths = [p for p in paths if len(p) > 1]\n",
    "                all_sequences.extend(paths)\n",
    "                \n",
    "    return all_sequences"
   ]
  },
  {
   "cell_type": "code",
   "execution_count": 17,
   "metadata": {},
   "outputs": [],
   "source": [
    "def old_sequences():\n",
    "    for pid in project_ids:\n",
    "        # sending get request and saving the response as response object \n",
    "        proj_path = 'data/project-json/{}.json'.format(pid)\n",
    "\n",
    "        # load the pre-downloaded project json data\n",
    "        with open(proj_path) as f:\n",
    "\n",
    "            proj_data = json.load(f)\n",
    "            sprites = proj_data['targets'][1:] \n",
    "\n",
    "            for s in sprites:\n",
    "                all_blocks = s['blocks']\n",
    "                tops = get_top_blocks(all_blocks)\n",
    "                topids = [bid for bid,block in tops.items()]\n",
    "                for tid in topids:\n",
    "                    s = build_stack_sequence(all_blocks, tid)\n",
    "                    #Only build sequences out of stacks with at least two blocks\n",
    "                    if(len(s) > 1):\n",
    "                        seqs = build_rnn_sequences(s,sequence_length)\n",
    "                        all_sequences.extend(seqs)"
   ]
  },
  {
   "cell_type": "markdown",
   "metadata": {},
   "source": [
    "# CLEANING"
   ]
  },
  {
   "cell_type": "code",
   "execution_count": 164,
   "metadata": {},
   "outputs": [
    {
     "name": "stderr",
     "output_type": "stream",
     "text": [
      "Using TensorFlow backend.\n"
     ]
    }
   ],
   "source": [
    "import numpy as np\n",
    "import tensorflow as tf\n",
    "from keras.preprocessing.sequence import TimeseriesGenerator, skipgrams"
   ]
  },
  {
   "cell_type": "code",
   "execution_count": 54,
   "metadata": {},
   "outputs": [],
   "source": [
    "sequences_t = [[1,2,3],[5,5,5,5,5,56]]"
   ]
  },
  {
   "cell_type": "code",
   "execution_count": 59,
   "metadata": {},
   "outputs": [
    {
     "data": {
      "text/plain": [
       "array([[ 0,  0,  0,  1,  2,  3],\n",
       "       [ 5,  5,  5,  5,  5, 56]], dtype=int32)"
      ]
     },
     "execution_count": 59,
     "metadata": {},
     "output_type": "execute_result"
    }
   ],
   "source": [
    "tf.keras.preprocessing.sequence.pad_sequences(sequences_t, maxlen=None, dtype='int32', padding='pre', truncating='pre', value=0.0)"
   ]
  },
  {
   "cell_type": "code",
   "execution_count": 61,
   "metadata": {},
   "outputs": [],
   "source": [
    "def reject_outliers(data, m=2):\n",
    "    return data[abs(np.array(data) - np.mean(data)) < m * np.std(data)]"
   ]
  },
  {
   "cell_type": "code",
   "execution_count": 101,
   "metadata": {},
   "outputs": [],
   "source": [
    "def pad_seqs(seqs):\n",
    "    return tf.keras.preprocessing.sequence.pad_sequences(seqs, maxlen=None, dtype='str', padding='pre', truncating='pre', value=0.0)"
   ]
  },
  {
   "cell_type": "code",
   "execution_count": 79,
   "metadata": {},
   "outputs": [
    {
     "name": "stdout",
     "output_type": "stream",
     "text": [
      "what\n"
     ]
    }
   ],
   "source": [
    "all_seqs = make_sequences()"
   ]
  },
  {
   "cell_type": "code",
   "execution_count": 80,
   "metadata": {},
   "outputs": [],
   "source": [
    "lengths = [len(sub) for sub in all_seqs]\n",
    "mean = np.mean(lengths)\n",
    "std = np.std(lengths)\n",
    "med = np.median(lengths)"
   ]
  },
  {
   "cell_type": "code",
   "execution_count": 81,
   "metadata": {},
   "outputs": [
    {
     "data": {
      "text/plain": [
       "(17.37940212275634, 11.0, 17.506860211198592)"
      ]
     },
     "execution_count": 81,
     "metadata": {},
     "output_type": "execute_result"
    }
   ],
   "source": [
    "mean, med, std"
   ]
  },
  {
   "cell_type": "code",
   "execution_count": 229,
   "metadata": {},
   "outputs": [],
   "source": [
    "# filtered_seqs = [seq for seq in s if abs(len(seq) - np.mean(lengths)) < 2 * np.std(lengths)]\n",
    "std_dev = 1\n",
    "filtered_seqs = list(filter(lambda s: abs(len(s) - mean) < std_dev * std, all_seqs))\n",
    "category_seqs = list(map(lambda s: [b.split('_')[0] for b in s], filtered_seqs))"
   ]
  },
  {
   "cell_type": "code",
   "execution_count": 237,
   "metadata": {},
   "outputs": [],
   "source": [
    "def make_windows(seq):\n",
    "    # want to create the windows walking backwards\n",
    "    # sample path:\n",
    "    # ['event_whenflagclicked', '-', 'data_setvariableto', '-', 'looks_hide']\n",
    "    # output:\n",
    "    # ['event_whenflagclicked', '-', 'data_setvariableto']\n",
    "    # ['event_whenflagclicked', '-', 'data_setvariableto', '-', 'looks_hide']\n",
    "    windows = []\n",
    "    for i in range(0, len(seq)-2, 2):\n",
    "        w = seq[:len(seq)-i]\n",
    "        windows.append(w)\n",
    "    return windows"
   ]
  },
  {
   "cell_type": "code",
   "execution_count": 238,
   "metadata": {},
   "outputs": [],
   "source": [
    "final_full_seqs = []\n",
    "for seq in filtered_seqs:\n",
    "    final_full_seqs.extend(make_windows(seq))"
   ]
  },
  {
   "cell_type": "code",
   "execution_count": 239,
   "metadata": {},
   "outputs": [],
   "source": [
    "final_category_seqs = []\n",
    "for seq in category_seqs:\n",
    "    final_category_seqs.extend(make_windows(seq))"
   ]
  },
  {
   "cell_type": "code",
   "execution_count": 240,
   "metadata": {},
   "outputs": [],
   "source": [
    "# Padding\n",
    "final_full_seqs = pad_seqs(final_full_seqs)\n",
    "final_category_seqs = pad_seqs(final_category_seqs)"
   ]
  },
  {
   "cell_type": "code",
   "execution_count": 241,
   "metadata": {},
   "outputs": [],
   "source": [
    "f_lengths = [len(sub) for sub in filtered_seqs]"
   ]
  },
  {
   "cell_type": "code",
   "execution_count": 242,
   "metadata": {},
   "outputs": [],
   "source": [
    "all_blocks = []\n",
    "for seq in filtered_seqs:\n",
    "    blocks = set(seq)\n",
    "    all_blocks.extend(blocks)\n",
    "block_vocab = list(set(all_blocks))"
   ]
  },
  {
   "cell_type": "code",
   "execution_count": 243,
   "metadata": {},
   "outputs": [],
   "source": [
    "block2idx = {}\n",
    "idx2block = {}\n",
    "for i,b in enumerate(block_vocab):\n",
    "    block2idx[b] = i\n",
    "    idx2block[i] = b"
   ]
  },
  {
   "cell_type": "code",
   "execution_count": 192,
   "metadata": {},
   "outputs": [],
   "source": [
    "def encode_seq(seq):\n",
    "    \"\"\"encodes all elements in sequence into integers\"\"\"\n",
    "    return np.array([block2idx[b] for b in seq])\n",
    "\n",
    "def decode_seq(seq):\n",
    "    \"\"\"decodes indices back into block names\"\"\"\n",
    "    return np.array([idx2block[i] for i in seq])"
   ]
  },
  {
   "cell_type": "code",
   "execution_count": 247,
   "metadata": {},
   "outputs": [],
   "source": [
    "final_full_df = pd.DataFrame(final_full_seqs)\n",
    "final_category_df = pd.DataFrame(final_category_seqs)"
   ]
  },
  {
   "cell_type": "code",
   "execution_count": 250,
   "metadata": {},
   "outputs": [],
   "source": [
    "# replace the 0's with empty strings\n",
    "final_full_df = final_full_df.replace('0.0', '')\n",
    "final_category_df = final_category_df.replace('0.0', '')"
   ]
  },
  {
   "cell_type": "code",
   "execution_count": 252,
   "metadata": {},
   "outputs": [
    {
     "data": {
      "text/html": [
       "<div>\n",
       "<style scoped>\n",
       "    .dataframe tbody tr th:only-of-type {\n",
       "        vertical-align: middle;\n",
       "    }\n",
       "\n",
       "    .dataframe tbody tr th {\n",
       "        vertical-align: top;\n",
       "    }\n",
       "\n",
       "    .dataframe thead th {\n",
       "        text-align: right;\n",
       "    }\n",
       "</style>\n",
       "<table border=\"1\" class=\"dataframe\">\n",
       "  <thead>\n",
       "    <tr style=\"text-align: right;\">\n",
       "      <th></th>\n",
       "      <th>0</th>\n",
       "      <th>1</th>\n",
       "      <th>2</th>\n",
       "      <th>3</th>\n",
       "      <th>4</th>\n",
       "      <th>5</th>\n",
       "      <th>6</th>\n",
       "      <th>7</th>\n",
       "      <th>8</th>\n",
       "      <th>9</th>\n",
       "      <th>...</th>\n",
       "      <th>23</th>\n",
       "      <th>24</th>\n",
       "      <th>25</th>\n",
       "      <th>26</th>\n",
       "      <th>27</th>\n",
       "      <th>28</th>\n",
       "      <th>29</th>\n",
       "      <th>30</th>\n",
       "      <th>31</th>\n",
       "      <th>32</th>\n",
       "    </tr>\n",
       "  </thead>\n",
       "  <tbody>\n",
       "    <tr>\n",
       "      <th>0</th>\n",
       "      <td></td>\n",
       "      <td></td>\n",
       "      <td></td>\n",
       "      <td></td>\n",
       "      <td></td>\n",
       "      <td></td>\n",
       "      <td></td>\n",
       "      <td></td>\n",
       "      <td></td>\n",
       "      <td></td>\n",
       "      <td>...</td>\n",
       "      <td></td>\n",
       "      <td></td>\n",
       "      <td></td>\n",
       "      <td></td>\n",
       "      <td></td>\n",
       "      <td>event_whenflagclicked</td>\n",
       "      <td>-</td>\n",
       "      <td>data_setvariableto</td>\n",
       "      <td>-</td>\n",
       "      <td>looks_hide</td>\n",
       "    </tr>\n",
       "    <tr>\n",
       "      <th>1</th>\n",
       "      <td></td>\n",
       "      <td></td>\n",
       "      <td></td>\n",
       "      <td></td>\n",
       "      <td></td>\n",
       "      <td></td>\n",
       "      <td></td>\n",
       "      <td></td>\n",
       "      <td></td>\n",
       "      <td></td>\n",
       "      <td>...</td>\n",
       "      <td></td>\n",
       "      <td></td>\n",
       "      <td></td>\n",
       "      <td></td>\n",
       "      <td></td>\n",
       "      <td></td>\n",
       "      <td></td>\n",
       "      <td>event_whenflagclicked</td>\n",
       "      <td>-</td>\n",
       "      <td>data_setvariableto</td>\n",
       "    </tr>\n",
       "    <tr>\n",
       "      <th>2</th>\n",
       "      <td></td>\n",
       "      <td></td>\n",
       "      <td></td>\n",
       "      <td></td>\n",
       "      <td></td>\n",
       "      <td></td>\n",
       "      <td></td>\n",
       "      <td></td>\n",
       "      <td></td>\n",
       "      <td></td>\n",
       "      <td>...</td>\n",
       "      <td></td>\n",
       "      <td></td>\n",
       "      <td></td>\n",
       "      <td></td>\n",
       "      <td></td>\n",
       "      <td>event_whenkeypressed</td>\n",
       "      <td>-</td>\n",
       "      <td>motion_pointindirection</td>\n",
       "      <td>-</td>\n",
       "      <td>motion_movesteps</td>\n",
       "    </tr>\n",
       "    <tr>\n",
       "      <th>3</th>\n",
       "      <td></td>\n",
       "      <td></td>\n",
       "      <td></td>\n",
       "      <td></td>\n",
       "      <td></td>\n",
       "      <td></td>\n",
       "      <td></td>\n",
       "      <td></td>\n",
       "      <td></td>\n",
       "      <td></td>\n",
       "      <td>...</td>\n",
       "      <td></td>\n",
       "      <td></td>\n",
       "      <td></td>\n",
       "      <td></td>\n",
       "      <td></td>\n",
       "      <td></td>\n",
       "      <td></td>\n",
       "      <td>event_whenkeypressed</td>\n",
       "      <td>-</td>\n",
       "      <td>motion_pointindirection</td>\n",
       "    </tr>\n",
       "    <tr>\n",
       "      <th>4</th>\n",
       "      <td></td>\n",
       "      <td></td>\n",
       "      <td></td>\n",
       "      <td></td>\n",
       "      <td></td>\n",
       "      <td></td>\n",
       "      <td></td>\n",
       "      <td></td>\n",
       "      <td></td>\n",
       "      <td></td>\n",
       "      <td>...</td>\n",
       "      <td></td>\n",
       "      <td></td>\n",
       "      <td></td>\n",
       "      <td></td>\n",
       "      <td></td>\n",
       "      <td>event_whenkeypressed</td>\n",
       "      <td>-</td>\n",
       "      <td>motion_movesteps</td>\n",
       "      <td>-</td>\n",
       "      <td>motion_pointindirection</td>\n",
       "    </tr>\n",
       "  </tbody>\n",
       "</table>\n",
       "<p>5 rows × 33 columns</p>\n",
       "</div>"
      ],
      "text/plain": [
       "  0  1  2  3  4  5  6  7  8  9            ...            23 24 25 26 27  \\\n",
       "0                                         ...                             \n",
       "1                                         ...                             \n",
       "2                                         ...                             \n",
       "3                                         ...                             \n",
       "4                                         ...                             \n",
       "\n",
       "                      28 29                       30 31  \\\n",
       "0  event_whenflagclicked  -       data_setvariableto  -   \n",
       "1                              event_whenflagclicked  -   \n",
       "2   event_whenkeypressed  -  motion_pointindirection  -   \n",
       "3                               event_whenkeypressed  -   \n",
       "4   event_whenkeypressed  -         motion_movesteps  -   \n",
       "\n",
       "                        32  \n",
       "0               looks_hide  \n",
       "1       data_setvariableto  \n",
       "2         motion_movesteps  \n",
       "3  motion_pointindirection  \n",
       "4  motion_pointindirection  \n",
       "\n",
       "[5 rows x 33 columns]"
      ]
     },
     "execution_count": 252,
     "metadata": {},
     "output_type": "execute_result"
    }
   ],
   "source": [
    "final_full_df.head()"
   ]
  },
  {
   "cell_type": "code",
   "execution_count": 253,
   "metadata": {},
   "outputs": [
    {
     "data": {
      "text/html": [
       "<div>\n",
       "<style scoped>\n",
       "    .dataframe tbody tr th:only-of-type {\n",
       "        vertical-align: middle;\n",
       "    }\n",
       "\n",
       "    .dataframe tbody tr th {\n",
       "        vertical-align: top;\n",
       "    }\n",
       "\n",
       "    .dataframe thead th {\n",
       "        text-align: right;\n",
       "    }\n",
       "</style>\n",
       "<table border=\"1\" class=\"dataframe\">\n",
       "  <thead>\n",
       "    <tr style=\"text-align: right;\">\n",
       "      <th></th>\n",
       "      <th>0</th>\n",
       "      <th>1</th>\n",
       "      <th>2</th>\n",
       "      <th>3</th>\n",
       "      <th>4</th>\n",
       "      <th>5</th>\n",
       "      <th>6</th>\n",
       "      <th>7</th>\n",
       "      <th>8</th>\n",
       "      <th>9</th>\n",
       "      <th>...</th>\n",
       "      <th>23</th>\n",
       "      <th>24</th>\n",
       "      <th>25</th>\n",
       "      <th>26</th>\n",
       "      <th>27</th>\n",
       "      <th>28</th>\n",
       "      <th>29</th>\n",
       "      <th>30</th>\n",
       "      <th>31</th>\n",
       "      <th>32</th>\n",
       "    </tr>\n",
       "  </thead>\n",
       "  <tbody>\n",
       "    <tr>\n",
       "      <th>0</th>\n",
       "      <td></td>\n",
       "      <td></td>\n",
       "      <td></td>\n",
       "      <td></td>\n",
       "      <td></td>\n",
       "      <td></td>\n",
       "      <td></td>\n",
       "      <td></td>\n",
       "      <td></td>\n",
       "      <td></td>\n",
       "      <td>...</td>\n",
       "      <td></td>\n",
       "      <td></td>\n",
       "      <td></td>\n",
       "      <td></td>\n",
       "      <td></td>\n",
       "      <td>event</td>\n",
       "      <td>-</td>\n",
       "      <td>data</td>\n",
       "      <td>-</td>\n",
       "      <td>looks</td>\n",
       "    </tr>\n",
       "    <tr>\n",
       "      <th>1</th>\n",
       "      <td></td>\n",
       "      <td></td>\n",
       "      <td></td>\n",
       "      <td></td>\n",
       "      <td></td>\n",
       "      <td></td>\n",
       "      <td></td>\n",
       "      <td></td>\n",
       "      <td></td>\n",
       "      <td></td>\n",
       "      <td>...</td>\n",
       "      <td></td>\n",
       "      <td></td>\n",
       "      <td></td>\n",
       "      <td></td>\n",
       "      <td></td>\n",
       "      <td></td>\n",
       "      <td></td>\n",
       "      <td>event</td>\n",
       "      <td>-</td>\n",
       "      <td>data</td>\n",
       "    </tr>\n",
       "    <tr>\n",
       "      <th>2</th>\n",
       "      <td></td>\n",
       "      <td></td>\n",
       "      <td></td>\n",
       "      <td></td>\n",
       "      <td></td>\n",
       "      <td></td>\n",
       "      <td></td>\n",
       "      <td></td>\n",
       "      <td></td>\n",
       "      <td></td>\n",
       "      <td>...</td>\n",
       "      <td></td>\n",
       "      <td></td>\n",
       "      <td></td>\n",
       "      <td></td>\n",
       "      <td></td>\n",
       "      <td>event</td>\n",
       "      <td>-</td>\n",
       "      <td>motion</td>\n",
       "      <td>-</td>\n",
       "      <td>motion</td>\n",
       "    </tr>\n",
       "    <tr>\n",
       "      <th>3</th>\n",
       "      <td></td>\n",
       "      <td></td>\n",
       "      <td></td>\n",
       "      <td></td>\n",
       "      <td></td>\n",
       "      <td></td>\n",
       "      <td></td>\n",
       "      <td></td>\n",
       "      <td></td>\n",
       "      <td></td>\n",
       "      <td>...</td>\n",
       "      <td></td>\n",
       "      <td></td>\n",
       "      <td></td>\n",
       "      <td></td>\n",
       "      <td></td>\n",
       "      <td></td>\n",
       "      <td></td>\n",
       "      <td>event</td>\n",
       "      <td>-</td>\n",
       "      <td>motion</td>\n",
       "    </tr>\n",
       "    <tr>\n",
       "      <th>4</th>\n",
       "      <td></td>\n",
       "      <td></td>\n",
       "      <td></td>\n",
       "      <td></td>\n",
       "      <td></td>\n",
       "      <td></td>\n",
       "      <td></td>\n",
       "      <td></td>\n",
       "      <td></td>\n",
       "      <td></td>\n",
       "      <td>...</td>\n",
       "      <td></td>\n",
       "      <td></td>\n",
       "      <td></td>\n",
       "      <td></td>\n",
       "      <td></td>\n",
       "      <td>event</td>\n",
       "      <td>-</td>\n",
       "      <td>motion</td>\n",
       "      <td>-</td>\n",
       "      <td>motion</td>\n",
       "    </tr>\n",
       "  </tbody>\n",
       "</table>\n",
       "<p>5 rows × 33 columns</p>\n",
       "</div>"
      ],
      "text/plain": [
       "  0  1  2  3  4  5  6  7  8  9    ...   23 24 25 26 27     28 29      30 31  \\\n",
       "0                                 ...                   event  -    data  -   \n",
       "1                                 ...                              event  -   \n",
       "2                                 ...                   event  -  motion  -   \n",
       "3                                 ...                              event  -   \n",
       "4                                 ...                   event  -  motion  -   \n",
       "\n",
       "       32  \n",
       "0   looks  \n",
       "1    data  \n",
       "2  motion  \n",
       "3  motion  \n",
       "4  motion  \n",
       "\n",
       "[5 rows x 33 columns]"
      ]
     },
     "execution_count": 253,
     "metadata": {},
     "output_type": "execute_result"
    }
   ],
   "source": [
    "final_category_df.head()"
   ]
  },
  {
   "cell_type": "code",
   "execution_count": 254,
   "metadata": {},
   "outputs": [],
   "source": [
    "final_full_df.to_csv('data/sequence-data/1000-windowed-full.csv')"
   ]
  },
  {
   "cell_type": "code",
   "execution_count": 255,
   "metadata": {},
   "outputs": [],
   "source": [
    "final_category_df.to_csv('data/sequence-data/1000-windowed-categories.csv')"
   ]
  }
 ],
 "metadata": {
  "kernelspec": {
   "display_name": "Python 3",
   "language": "python",
   "name": "python3"
  },
  "language_info": {
   "codemirror_mode": {
    "name": "ipython",
    "version": 3
   },
   "file_extension": ".py",
   "mimetype": "text/x-python",
   "name": "python",
   "nbconvert_exporter": "python",
   "pygments_lexer": "ipython3",
   "version": "3.6.4"
  }
 },
 "nbformat": 4,
 "nbformat_minor": 2
}
