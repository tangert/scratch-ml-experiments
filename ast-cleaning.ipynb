{
 "cells": [
  {
   "cell_type": "markdown",
   "metadata": {},
   "source": [
    "# cleaning ast from project file"
   ]
  },
  {
   "cell_type": "code",
   "execution_count": 13,
   "metadata": {},
   "outputs": [],
   "source": [
    "import json"
   ]
  },
  {
   "cell_type": "code",
   "execution_count": 14,
   "metadata": {},
   "outputs": [],
   "source": [
    "project_data = {}\n",
    "with open('data/parsing-test/project.json', 'r') as f:\n",
    "    project_data = json.load(f)"
   ]
  },
  {
   "cell_type": "code",
   "execution_count": 15,
   "metadata": {},
   "outputs": [],
   "source": [
    "targets = project_data['targets']"
   ]
  },
  {
   "cell_type": "code",
   "execution_count": 16,
   "metadata": {},
   "outputs": [],
   "source": [
    "#targets[0] is always the stag\n",
    "sprite = targets[1]"
   ]
  },
  {
   "cell_type": "code",
   "execution_count": 17,
   "metadata": {},
   "outputs": [],
   "source": [
    "blocks = sprite['blocks']"
   ]
  },
  {
   "cell_type": "code",
   "execution_count": 25,
   "metadata": {},
   "outputs": [
    {
     "data": {
      "text/plain": [
       "['event_whenflagclicked',\n",
       " 'control_repeat',\n",
       " 'control_if',\n",
       " 'event_whenthisspriteclicked',\n",
       " 'event_whenbroadcastreceived',\n",
       " 'motion_turnright',\n",
       " 'motion_movesteps',\n",
       " 'motion_goto',\n",
       " 'motion_goto_menu',\n",
       " 'motion_goto',\n",
       " 'motion_goto_menu',\n",
       " 'motion_goto',\n",
       " 'motion_goto_menu',\n",
       " 'operator_gt',\n",
       " 'operator_random',\n",
       " 'looks_say',\n",
       " 'looks_thinkforsecs',\n",
       " 'event_whenflagclicked',\n",
       " 'control_if_else',\n",
       " 'control_if_else',\n",
       " 'motion_movesteps',\n",
       " 'motion_turnleft',\n",
       " 'motion_glideto',\n",
       " 'motion_glideto_menu',\n",
       " 'operator_gt',\n",
       " 'operator_gt',\n",
       " 'operator_random',\n",
       " 'operator_random']"
      ]
     },
     "execution_count": 25,
     "metadata": {},
     "output_type": "execute_result"
    }
   ],
   "source": [
    "# all opcodes present in this sprite\n",
    "[block['opcode'] for bid, block in blocks.items()]"
   ]
  },
  {
   "cell_type": "code",
   "execution_count": 20,
   "metadata": {},
   "outputs": [],
   "source": [
    "def get_top_blocks(blocks, is_list=False):\n",
    "    if is_list:\n",
    "        return [block for bid, block in blocks.items() if 'topLevel' in list(block) and block['topLevel']]\n",
    "    return {bid: block for bid,block in blocks.items() if 'topLevel' in list(block) and block['topLevel']}"
   ]
  },
  {
   "cell_type": "code",
   "execution_count": 24,
   "metadata": {},
   "outputs": [],
   "source": [
    "def traverse(blocks):\n",
    "    \n",
    "    \"\"\"\n",
    "    traverses the blocks dictionary by continually traversing the 'next' property of each block\n",
    "    returns a list of top to bottom paths\n",
    "    \"\"\"\n",
    "    \n",
    "    # 1. Grab the top blocks as reference points\n",
    "    tops = get_top_blocks(blocks)\n",
    "    topids = [bid for bid,block in tops.items()]\n",
    "    \n",
    "    # Store each stack\n",
    "    stacks = []\n",
    "        \n",
    "    # start at each top block and traverse down by seeing each next block\n",
    "    for tid in topids:\n",
    "        stack = []\n",
    "        currid = tid\n",
    "        while(currid != None):\n",
    "            stack.append(blocks[currid]['opcode'])\n",
    "            currid = blocks[currid]['next']\n",
    "        stacks.append(stack)\n",
    "    \n",
    "    return stacks"
   ]
  },
  {
   "cell_type": "code",
   "execution_count": 22,
   "metadata": {},
   "outputs": [],
   "source": [
    "paths = traverse(blocks)"
   ]
  },
  {
   "cell_type": "code",
   "execution_count": 23,
   "metadata": {},
   "outputs": [
    {
     "data": {
      "text/plain": [
       "[['event_whenflagclicked', 'control_repeat'],\n",
       " ['event_whenthisspriteclicked', 'control_if'],\n",
       " ['event_whenbroadcastreceived', 'motion_turnright'],\n",
       " ['motion_movesteps', 'motion_goto', 'looks_thinkforsecs', 'looks_say'],\n",
       " ['event_whenflagclicked', 'control_if_else']]"
      ]
     },
     "execution_count": 23,
     "metadata": {},
     "output_type": "execute_result"
    }
   ],
   "source": [
    "paths"
   ]
  },
  {
   "cell_type": "code",
   "execution_count": null,
   "metadata": {},
   "outputs": [],
   "source": [
    "# how woudl you manually build up a tree?\n"
   ]
  }
 ],
 "metadata": {
  "kernelspec": {
   "display_name": "Python 3",
   "language": "python",
   "name": "python3"
  },
  "language_info": {
   "codemirror_mode": {
    "name": "ipython",
    "version": 3
   },
   "file_extension": ".py",
   "mimetype": "text/x-python",
   "name": "python",
   "nbconvert_exporter": "python",
   "pygments_lexer": "ipython3",
   "version": "3.6.4"
  }
 },
 "nbformat": 4,
 "nbformat_minor": 2
}
