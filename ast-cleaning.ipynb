{
 "cells": [
  {
   "cell_type": "markdown",
   "metadata": {},
   "source": [
    "# cleaning ast from project file"
   ]
  },
  {
   "cell_type": "code",
   "execution_count": 79,
   "metadata": {},
   "outputs": [],
   "source": [
    "import json\n",
    "import pprint\n",
    "import collections"
   ]
  },
  {
   "cell_type": "code",
   "execution_count": 80,
   "metadata": {},
   "outputs": [],
   "source": [
    "pp = pprint.PrettyPrinter(indent=4)"
   ]
  },
  {
   "cell_type": "code",
   "execution_count": 81,
   "metadata": {},
   "outputs": [],
   "source": [
    "project_data = {}\n",
    "project = 'parsing-test-simple'\n",
    "with open('data/{}/project.json'.format(project), 'r') as f:\n",
    "    project_data = json.load(f)"
   ]
  },
  {
   "cell_type": "code",
   "execution_count": 82,
   "metadata": {},
   "outputs": [],
   "source": [
    "targets = project_data['targets']\n",
    "sprites = targets[1:]"
   ]
  },
  {
   "cell_type": "code",
   "execution_count": 83,
   "metadata": {},
   "outputs": [],
   "source": [
    "def get_top_blocks(blocks):\n",
    "    return {bid: block for bid,block in blocks.items() if 'topLevel' in list(block) and block['topLevel']}"
   ]
  },
  {
   "cell_type": "code",
   "execution_count": 84,
   "metadata": {},
   "outputs": [],
   "source": [
    "def traverse_blocks(blocks):\n",
    "    \n",
    "    \"\"\"\n",
    "    traverses the blocks dictionary by continually traversing the 'next' property of each block\n",
    "    returns a list of top to bottom paths\n",
    "    \"\"\"\n",
    "    \n",
    "    # 1. Grab the top blocks as reference points\n",
    "    tops = get_top_blocks(blocks)\n",
    "    topids = [bid for bid,block in tops.items()]\n",
    "    \n",
    "    # Store each stack\n",
    "    stacks = []\n",
    "        \n",
    "    # start at each top block and traverse down by seeing each next block\n",
    "    for tid in topids:\n",
    "        stack = build_stack_tree([], blocks, tid)\n",
    "        stacks.append(stack)\n",
    "    \n",
    "    return stacks"
   ]
  },
  {
   "cell_type": "code",
   "execution_count": 85,
   "metadata": {},
   "outputs": [],
   "source": [
    "def build_stack_tree(curr_stack, all_blocks, block_id):\n",
    "    \"\"\"\n",
    "    Given a block:\n",
    "    1. Initialize with its data\n",
    "    1. Check if it has any children\n",
    "        2. If it has children,\n",
    "            recursively traverse each child block\n",
    "    2. If not, check if it has a next block\n",
    "    3. Repeat the process with the next block\n",
    "    \"\"\"\n",
    "    \n",
    "    #Grab the block\n",
    "    block = all_blocks[block_id]\n",
    "    \n",
    "    # Initialize the object to store the current block \n",
    "    curr_block = {\n",
    "        'id': block_id,\n",
    "        'type': block['opcode'],\n",
    "        'next': block['next'],\n",
    "        'parent': block['parent'],\n",
    "        'children': [],\n",
    "        'isLeaf': False\n",
    "    }\n",
    "    \n",
    "    # First check for substacks (control flow)\n",
    "    for stackid in ['SUBSTACK', 'SUBSTACK2']:\n",
    "        if stackid in block['inputs']:\n",
    "            child_id = block['inputs'][stackid][1]\n",
    "            # pass in the child stack array into the new one\n",
    "            child_stack = build_stack_tree(curr_block['children'], all_blocks, child_id)\n",
    "            curr_block['children'].append(child_stack)\n",
    "\n",
    "\n",
    "    # If there's no next block, return the current stack\n",
    "    # Check if there's a next block\n",
    "    if block['next'] is None:\n",
    "        # A lone block is at the top level and has no next \n",
    "        if block['topLevel']:\n",
    "            return [curr_block]\n",
    "        \n",
    "        # At the end of a tree\n",
    "        if len(curr_block['children']) == 0:\n",
    "            curr_block['isLeaf'] = True\n",
    "        \n",
    "        # At a normal end of a branch\n",
    "        return curr_stack.insert(0,curr_block)\n",
    "\n",
    "    # Otherwise, go to the next block\n",
    "    build_stack_tree(curr_stack, all_blocks, block['next'])\n",
    "    \n",
    "    # prepend because it's recursively added from the bottom up\n",
    "    curr_stack.insert(0,curr_block)\n",
    "\n",
    "    return curr_stack"
   ]
  },
  {
   "cell_type": "code",
   "execution_count": 103,
   "metadata": {},
   "outputs": [],
   "source": [
    "def build_stack_sequence(all_blocks, tid):\n",
    "    \"\"\"\n",
    "    currently only looks at the next block and doesn't consider nesting.\n",
    "    refactor to include nested paths/sequences by doing a depth-first traversal\n",
    "    \"\"\"\n",
    "    # This produces ONE depth first traversal from top -> bottom\n",
    "    stack = []\n",
    "    curr_id = tid\n",
    "    stack.append(all_blocks[curr_id]['opcode'])\n",
    "    while curr_id is not None:\n",
    "        curr_id = all_blocks[curr_id]['next']\n",
    "        if curr_id != None:\n",
    "            stack.append(all_blocks[curr_id]['opcode'])\n",
    "    return stack"
   ]
  },
  {
   "cell_type": "code",
   "execution_count": 105,
   "metadata": {},
   "outputs": [],
   "source": [
    "def build_rnn_sequences(stack, seq_len):\n",
    "    \"\"\"\n",
    "    produces a list of rnn-ready sequences given an input stack sequence\n",
    "    each stack is simply ONE depth first traversal stack\n",
    "    this produces iterations through the stack\n",
    "    \"\"\"\n",
    "    seqs = []\n",
    "    for i in range(seq_len):\n",
    "        seq = stack[i:seq_len]\n",
    "        if(len(seq)<seq_len):\n",
    "            seq.extend(['none'] * (seq_len - len(seq)))\n",
    "        seqs.append(seq)\n",
    "    return seqs"
   ]
  },
  {
   "cell_type": "code",
   "execution_count": 97,
   "metadata": {},
   "outputs": [],
   "source": [
    "# some utils\n",
    "def stack_is_flat(stack):\n",
    "    return all([len(block['children']) == 0 for block in stack])\n",
    "\n",
    "def stack_is_nested(stack):\n",
    "    return not stack_is_flat(stack)"
   ]
  },
  {
   "cell_type": "code",
   "execution_count": 98,
   "metadata": {},
   "outputs": [],
   "source": [
    "# 1. Grab the top blocks as reference points\n",
    "tops = get_top_blocks(sprites[0]['blocks'])\n",
    "topids = [bid for bid,block in tops.items()]"
   ]
  },
  {
   "cell_type": "code",
   "execution_count": 115,
   "metadata": {},
   "outputs": [],
   "source": [
    "def depth_first_traversal(curr_path,all_blocks,pid):\n",
    "    curr_block = all_blocks[0]\n",
    "    if curr_block['next'] is None and len(curr_block['children']) == 0:\n",
    "        print(\"Got to the end of a path\")\n",
    "        return curr_path\n",
    "    \n",
    "    if len(curr_block['children']) > 0:\n",
    "        for c in curr_blcok['children']:\n",
    "            depth_first_traversal(curr_path, all_blocks, c.id)\n",
    "        \n",
    "    return curr_path"
   ]
  },
  {
   "cell_type": "code",
   "execution_count": 111,
   "metadata": {},
   "outputs": [],
   "source": [
    "sample_blocks = traverse_blocks(sprites[0]['blocks'])"
   ]
  },
  {
   "cell_type": "code",
   "execution_count": 114,
   "metadata": {},
   "outputs": [
    {
     "ename": "TypeError",
     "evalue": "list indices must be integers or slices, not str",
     "output_type": "error",
     "traceback": [
      "\u001b[0;31m---------------------------------------------------------------------------\u001b[0m",
      "\u001b[0;31mTypeError\u001b[0m                                 Traceback (most recent call last)",
      "\u001b[0;32m<ipython-input-114-0c35905760aa>\u001b[0m in \u001b[0;36m<module>\u001b[0;34m()\u001b[0m\n\u001b[0;32m----> 1\u001b[0;31m \u001b[0mdepth_first_traversal\u001b[0m\u001b[0;34m(\u001b[0m\u001b[0;34m[\u001b[0m\u001b[0;34m]\u001b[0m\u001b[0;34m,\u001b[0m\u001b[0msample_blocks\u001b[0m\u001b[0;34m,\u001b[0m\u001b[0mtopids\u001b[0m\u001b[0;34m[\u001b[0m\u001b[0;36m0\u001b[0m\u001b[0;34m]\u001b[0m\u001b[0;34m)\u001b[0m\u001b[0;34m\u001b[0m\u001b[0m\n\u001b[0m",
      "\u001b[0;32m<ipython-input-113-ee28dad7f368>\u001b[0m in \u001b[0;36mdepth_first_traversal\u001b[0;34m(curr_path, all_blocks, pid)\u001b[0m\n\u001b[1;32m      1\u001b[0m \u001b[0;32mdef\u001b[0m \u001b[0mdepth_first_traversal\u001b[0m\u001b[0;34m(\u001b[0m\u001b[0mcurr_path\u001b[0m\u001b[0;34m,\u001b[0m\u001b[0mall_blocks\u001b[0m\u001b[0;34m,\u001b[0m\u001b[0mpid\u001b[0m\u001b[0;34m)\u001b[0m\u001b[0;34m:\u001b[0m\u001b[0;34m\u001b[0m\u001b[0m\n\u001b[1;32m      2\u001b[0m     \u001b[0mcurr_block\u001b[0m \u001b[0;34m=\u001b[0m \u001b[0mall_blocks\u001b[0m\u001b[0;34m[\u001b[0m\u001b[0;36m0\u001b[0m\u001b[0;34m]\u001b[0m\u001b[0;34m\u001b[0m\u001b[0m\n\u001b[0;32m----> 3\u001b[0;31m     \u001b[0;32mif\u001b[0m \u001b[0mcurr_block\u001b[0m\u001b[0;34m[\u001b[0m\u001b[0;34m'next'\u001b[0m\u001b[0;34m]\u001b[0m \u001b[0;32mis\u001b[0m \u001b[0;32mNone\u001b[0m \u001b[0;32mand\u001b[0m \u001b[0mlen\u001b[0m\u001b[0;34m(\u001b[0m\u001b[0mcurr_block\u001b[0m\u001b[0;34m[\u001b[0m\u001b[0;34m'children'\u001b[0m\u001b[0;34m]\u001b[0m\u001b[0;34m)\u001b[0m \u001b[0;34m==\u001b[0m \u001b[0;36m0\u001b[0m\u001b[0;34m:\u001b[0m\u001b[0;34m\u001b[0m\u001b[0m\n\u001b[0m\u001b[1;32m      4\u001b[0m         \u001b[0mprint\u001b[0m\u001b[0;34m(\u001b[0m\u001b[0;34m\"Got to the end of a path\"\u001b[0m\u001b[0;34m)\u001b[0m\u001b[0;34m\u001b[0m\u001b[0m\n\u001b[1;32m      5\u001b[0m         \u001b[0;32mreturn\u001b[0m \u001b[0mcurr_path\u001b[0m\u001b[0;34m\u001b[0m\u001b[0m\n",
      "\u001b[0;31mTypeError\u001b[0m: list indices must be integers or slices, not str"
     ]
    }
   ],
   "source": [
    "depth_first_traversal([],sample_blocks,topids[0])"
   ]
  },
  {
   "cell_type": "code",
   "execution_count": 100,
   "metadata": {},
   "outputs": [
    {
     "name": "stdout",
     "output_type": "stream",
     "text": [
      "Stack: 2U2~47{QSP_bc*?H9{Z/\n",
      "Stack: ck}JxTe~bq1WN`,gHL#W\n",
      "Stack: 84:+X?A:D.A,^gF}uA4r\n"
     ]
    }
   ],
   "source": [
    "for tid in topids:\n",
    "    print(\"Stack: {}\".format(tid))\n",
    "    s = build_stack_sequence(sample_blocks, tid)\n",
    "    seqs = build_rnn_sequences(s,len(s))"
   ]
  },
  {
   "cell_type": "code",
   "execution_count": 101,
   "metadata": {},
   "outputs": [
    {
     "name": "stdout",
     "output_type": "stream",
     "text": [
      "['2U2~47{QSP_bc*?H9{Z/', 'ck}JxTe~bq1WN`,gHL#W', '84:+X?A:D.A,^gF}uA4r']\n"
     ]
    }
   ],
   "source": [
    "print(topids)"
   ]
  },
  {
   "cell_type": "code",
   "execution_count": 102,
   "metadata": {},
   "outputs": [],
   "source": [
    "def extract(stack):\n",
    "    \"\"\"\n",
    "    Given a stack, this will return all of the paths from\n",
    "    the top node to its leaves.\n",
    "    \n",
    "    Performs a depth-first traversal and saves each of the paths.\n",
    "    Have to consider CHILDREN and NEXT.\n",
    "    Only after going thorugh all of children do you go to next\n",
    "     \n",
    "    \"\"\"\n",
    "    paths = []\n",
    "    \n",
    "    return paths"
   ]
  },
  {
   "cell_type": "code",
   "execution_count": 63,
   "metadata": {},
   "outputs": [],
   "source": [
    "def extract_helper(stack, all_paths):\n",
    "    \"\"\"\n",
    "    recursive helper for the extract method\n",
    "    given a starting node, it'll go through and look for all its children\n",
    "    \"\"\"\n",
    "    path = []\n",
    "    \n",
    "    \n",
    "    all_paths.append(path)\n",
    "    return all_paths"
   ]
  },
  {
   "cell_type": "markdown",
   "metadata": {},
   "source": [
    "## main idea\n",
    "1. do a depth first traversal on each tree for each stack\n",
    "2. save each path in the search\n",
    "3. learn to predict the last node in each path! pad it by the max length of each path."
   ]
  },
  {
   "cell_type": "code",
   "execution_count": null,
   "metadata": {},
   "outputs": [],
   "source": []
  }
 ],
 "metadata": {
  "kernelspec": {
   "display_name": "Python 3",
   "language": "python",
   "name": "python3"
  },
  "language_info": {
   "codemirror_mode": {
    "name": "ipython",
    "version": 3
   },
   "file_extension": ".py",
   "mimetype": "text/x-python",
   "name": "python",
   "nbconvert_exporter": "python",
   "pygments_lexer": "ipython3",
   "version": "3.6.4"
  }
 },
 "nbformat": 4,
 "nbformat_minor": 2
}
