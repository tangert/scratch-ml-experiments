{
 "cells": [
  {
   "cell_type": "markdown",
   "metadata": {},
   "source": [
    "# cleaning ast from project file"
   ]
  },
  {
   "cell_type": "code",
   "execution_count": 339,
   "metadata": {},
   "outputs": [],
   "source": [
    "import json"
   ]
  },
  {
   "cell_type": "code",
   "execution_count": 340,
   "metadata": {},
   "outputs": [],
   "source": [
    "project_data = {}\n",
    "project = 'parsing-test-simple'\n",
    "with open('data/{}/project.json'.format(project), 'r') as f:\n",
    "    project_data = json.load(f)"
   ]
  },
  {
   "cell_type": "code",
   "execution_count": 341,
   "metadata": {},
   "outputs": [],
   "source": [
    "targets = project_data['targets']\n",
    "sprites = targets[1:]"
   ]
  },
  {
   "cell_type": "code",
   "execution_count": 342,
   "metadata": {},
   "outputs": [],
   "source": [
    "def get_top_blocks(blocks):\n",
    "    return {bid: block for bid,block in blocks.items() if 'topLevel' in list(block) and block['topLevel']}"
   ]
  },
  {
   "cell_type": "code",
   "execution_count": 343,
   "metadata": {},
   "outputs": [],
   "source": [
    "def traverse_blocks(blocks):\n",
    "    \n",
    "    \"\"\"\n",
    "    traverses the blocks dictionary by continually traversing the 'next' property of each block\n",
    "    returns a list of top to bottom paths\n",
    "    \"\"\"\n",
    "    \n",
    "    # 1. Grab the top blocks as reference points\n",
    "    tops = get_top_blocks(blocks)\n",
    "    topids = [bid for bid,block in tops.items()]\n",
    "    \n",
    "    # Store each stack\n",
    "    stacks = []\n",
    "        \n",
    "    # start at each top block and traverse down by seeing each next block\n",
    "    for tid in topids:\n",
    "        stack = traverse_stack([], blocks, blocks[tid])\n",
    "        stacks.append(stack)\n",
    "    \n",
    "    return stacks"
   ]
  },
  {
   "cell_type": "code",
   "execution_count": 344,
   "metadata": {},
   "outputs": [],
   "source": [
    "def traverse_stack(curr_stack, all_blocks, block):\n",
    "    \n",
    "    \"\"\"\n",
    "    Given a block:\n",
    "    1. Initialize with its data\n",
    "    1. Check if it has any children\n",
    "        2. If it has children,\n",
    "            recursively traverse each child block\n",
    "    2. If not, check if it has a next block\n",
    "    3. Repeat the process with the next block\n",
    "    \"\"\"\n",
    "        \n",
    "    # Initialize the object to store the current block \n",
    "    curr_block = {}\n",
    "    curr_block['type'] = block['opcode']\n",
    "    curr_block['children'] = []\n",
    "    \n",
    "    # First check for substacks (control flow)\n",
    "    for stackid in ['SUBSTACK', 'SUBSTACK2']:\n",
    "        if stackid in block['inputs']:\n",
    "            child = all_blocks[block['inputs'][stackid][1]]\n",
    "            \n",
    "            # pass in the child stack array into the new one\n",
    "            child_stack = traverse_stack(curr_block['children'], all_blocks, child)\n",
    "            curr_block['children'].append(child_stack)\n",
    "\n",
    "    # If there's no next block, return the current stack\n",
    "    # Check if there's a next block\n",
    "    if block['next'] is None:\n",
    "        # top level and no next is a lone block\n",
    "        if block['topLevel']:\n",
    "            return [curr_block]\n",
    "        else:\n",
    "            return curr_stack.insert(0,curr_block)\n",
    "\n",
    "    # Otherwise, go to the next block\n",
    "    next_block = all_blocks[block['next']]\n",
    "    traverse_stack(curr_stack, all_blocks, next_block)\n",
    "    \n",
    "    # prepend because it's recursively added from the bottom up\n",
    "    curr_stack.insert(0,curr_block)\n",
    "\n",
    "    return curr_stack"
   ]
  },
  {
   "cell_type": "code",
   "execution_count": 345,
   "metadata": {},
   "outputs": [],
   "source": [
    "def extract(ast):\n",
    "    \"\"\"\n",
    "    returns a set of AST paths for a given stack\n",
    "    can be done without creating a tree?\n",
    "    just look for all terminal nodes\n",
    "    then calculate all of the paths from those to all other terminal nodes\n",
    "    \"\"\"\n",
    "    print(ast)\n",
    "    return 0"
   ]
  },
  {
   "cell_type": "code",
   "execution_count": 346,
   "metadata": {},
   "outputs": [],
   "source": [
    "all_stacks = traverse_blocks(sprites[0]['blocks'])"
   ]
  },
  {
   "cell_type": "code",
   "execution_count": 347,
   "metadata": {},
   "outputs": [
    {
     "name": "stdout",
     "output_type": "stream",
     "text": [
      "[{'type': 'motion_movesteps', 'children': []}, {'type': 'motion_goto', 'children': []}, {'type': 'looks_thinkforsecs', 'children': []}, {'type': 'looks_say', 'children': []}, {'type': 'sound_playuntildone', 'children': []}, {'type': 'event_broadcast', 'children': []}]\n"
     ]
    },
    {
     "data": {
      "text/plain": [
       "0"
      ]
     },
     "execution_count": 347,
     "metadata": {},
     "output_type": "execute_result"
    }
   ],
   "source": [
    "# for stack in all_stacks:\n",
    "#     extract(stack)\n",
    "samp = all_stacks[1]\n",
    "extract(samp)"
   ]
  }
 ],
 "metadata": {
  "kernelspec": {
   "display_name": "Python 3",
   "language": "python",
   "name": "python3"
  },
  "language_info": {
   "codemirror_mode": {
    "name": "ipython",
    "version": 3
   },
   "file_extension": ".py",
   "mimetype": "text/x-python",
   "name": "python",
   "nbconvert_exporter": "python",
   "pygments_lexer": "ipython3",
   "version": "3.6.4"
  }
 },
 "nbformat": 4,
 "nbformat_minor": 2
}
